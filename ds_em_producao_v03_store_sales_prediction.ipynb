{
 "cells": [
  {
   "cell_type": "markdown",
   "id": "c135c29a",
   "metadata": {},
   "source": [
    "# 0. Imports"
   ]
  },
  {
   "cell_type": "markdown",
   "id": "0a3b82bc",
   "metadata": {
    "ExecuteTime": {
     "end_time": "2022-01-13T13:26:54.370836Z",
     "start_time": "2022-01-13T13:26:54.367667Z"
    }
   },
   "source": [
    "## 0.1. Importing Libraries"
   ]
  },
  {
   "cell_type": "code",
   "execution_count": 1,
   "id": "0650b661",
   "metadata": {
    "ExecuteTime": {
     "end_time": "2022-01-16T18:56:09.205862Z",
     "start_time": "2022-01-16T18:56:06.866087Z"
    }
   },
   "outputs": [],
   "source": [
    "import math\n",
    "import pandas as pd\n",
    "import numpy as np\n",
    "import inflection \n",
    "\n",
    "import seaborn as sns\n",
    "\n",
    "from matplotlib import pyplot as plt\n",
    "from IPython.core.display import HTML\n",
    "from IPython.display import Image"
   ]
  },
  {
   "cell_type": "markdown",
   "id": "565d17ec",
   "metadata": {
    "heading_collapsed": true
   },
   "source": [
    "## 0.1. Helper Functions"
   ]
  },
  {
   "cell_type": "code",
   "execution_count": 2,
   "id": "2b99ce3d",
   "metadata": {
    "ExecuteTime": {
     "end_time": "2022-01-16T18:56:09.217925Z",
     "start_time": "2022-01-16T18:56:09.208484Z"
    },
    "hidden": true
   },
   "outputs": [],
   "source": [
    "# Função auxiliar:\n",
    "\n",
    "def jupyter_settings():\n",
    "    %matplotlib inline\n",
    "    %pylab inline\n",
    "    \n",
    "    plt.style.use( 'bmh' )\n",
    "    plt.rcParams[ 'figure.figsize' ] = [20, 10]\n",
    "    plt.rcParams[ 'font.size' ] = 20\n",
    "    \n",
    "    display( HTML( '<style>.container { width:95% !important; }</style>' ) )\n",
    "    pd.options.display.max_columns = None\n",
    "    pd.options.display.max_rows = None\n",
    "    pd.set_option( 'display.expand_frame_repr', False )\n",
    "    \n",
    "    sns.set()"
   ]
  },
  {
   "cell_type": "code",
   "execution_count": 3,
   "id": "f69d44c9",
   "metadata": {
    "ExecuteTime": {
     "end_time": "2022-01-16T18:56:09.240215Z",
     "start_time": "2022-01-16T18:56:09.220722Z"
    },
    "hidden": true
   },
   "outputs": [
    {
     "name": "stdout",
     "output_type": "stream",
     "text": [
      "Populating the interactive namespace from numpy and matplotlib\n"
     ]
    },
    {
     "data": {
      "text/html": [
       "<style>.container { width:95% !important; }</style>"
      ],
      "text/plain": [
       "<IPython.core.display.HTML object>"
      ]
     },
     "metadata": {},
     "output_type": "display_data"
    }
   ],
   "source": [
    "jupyter_settings()"
   ]
  },
  {
   "cell_type": "code",
   "execution_count": 4,
   "id": "002cc03e",
   "metadata": {
    "ExecuteTime": {
     "end_time": "2022-01-16T18:56:09.247553Z",
     "start_time": "2022-01-16T18:56:09.243699Z"
    },
    "hidden": true
   },
   "outputs": [],
   "source": [
    "# Suppressing the scientific notation of the metrics\n",
    "\n",
    "pd.set_option('display.float_format', lambda x: '%.2f' % x)"
   ]
  },
  {
   "cell_type": "markdown",
   "id": "c37d9860",
   "metadata": {
    "heading_collapsed": true
   },
   "source": [
    "## 0.2. Loading the Data"
   ]
  },
  {
   "cell_type": "code",
   "execution_count": 5,
   "id": "4344a748",
   "metadata": {
    "ExecuteTime": {
     "end_time": "2022-01-16T18:56:10.863698Z",
     "start_time": "2022-01-16T18:56:09.250311Z"
    },
    "hidden": true
   },
   "outputs": [],
   "source": [
    "df_sales_raw = pd.read_csv( 'datasets/train.csv', low_memory = False )\n",
    "df_store_raw = pd.read_csv( 'datasets/store.csv', low_memory = False )\n",
    "\n",
    "#Merge of both dataframes:\n",
    "df_raw = pd.merge( df_sales_raw, df_store_raw, on = 'Store', how = 'left' )"
   ]
  },
  {
   "cell_type": "code",
   "execution_count": 6,
   "id": "cc01e031",
   "metadata": {
    "ExecuteTime": {
     "end_time": "2022-01-16T18:56:11.225599Z",
     "start_time": "2022-01-16T18:56:10.865709Z"
    },
    "hidden": true
   },
   "outputs": [
    {
     "data": {
      "text/html": [
       "<div>\n",
       "<style scoped>\n",
       "    .dataframe tbody tr th:only-of-type {\n",
       "        vertical-align: middle;\n",
       "    }\n",
       "\n",
       "    .dataframe tbody tr th {\n",
       "        vertical-align: top;\n",
       "    }\n",
       "\n",
       "    .dataframe thead th {\n",
       "        text-align: right;\n",
       "    }\n",
       "</style>\n",
       "<table border=\"1\" class=\"dataframe\">\n",
       "  <thead>\n",
       "    <tr style=\"text-align: right;\">\n",
       "      <th></th>\n",
       "      <th>Store</th>\n",
       "      <th>DayOfWeek</th>\n",
       "      <th>Date</th>\n",
       "      <th>Sales</th>\n",
       "      <th>Customers</th>\n",
       "      <th>Open</th>\n",
       "      <th>Promo</th>\n",
       "      <th>StateHoliday</th>\n",
       "      <th>SchoolHoliday</th>\n",
       "      <th>StoreType</th>\n",
       "      <th>Assortment</th>\n",
       "      <th>CompetitionDistance</th>\n",
       "      <th>CompetitionOpenSinceMonth</th>\n",
       "      <th>CompetitionOpenSinceYear</th>\n",
       "      <th>Promo2</th>\n",
       "      <th>Promo2SinceWeek</th>\n",
       "      <th>Promo2SinceYear</th>\n",
       "      <th>PromoInterval</th>\n",
       "    </tr>\n",
       "  </thead>\n",
       "  <tbody>\n",
       "    <tr>\n",
       "      <th>713181</th>\n",
       "      <td>367</td>\n",
       "      <td>1</td>\n",
       "      <td>2013-09-30</td>\n",
       "      <td>4757</td>\n",
       "      <td>533</td>\n",
       "      <td>1</td>\n",
       "      <td>0</td>\n",
       "      <td>0</td>\n",
       "      <td>0</td>\n",
       "      <td>d</td>\n",
       "      <td>c</td>\n",
       "      <td>2640.00</td>\n",
       "      <td>9.00</td>\n",
       "      <td>2012.00</td>\n",
       "      <td>0</td>\n",
       "      <td>NaN</td>\n",
       "      <td>NaN</td>\n",
       "      <td>NaN</td>\n",
       "    </tr>\n",
       "  </tbody>\n",
       "</table>\n",
       "</div>"
      ],
      "text/plain": [
       "        Store  DayOfWeek        Date  Sales  Customers  Open  Promo StateHoliday  SchoolHoliday StoreType Assortment  CompetitionDistance  CompetitionOpenSinceMonth  CompetitionOpenSinceYear  Promo2  Promo2SinceWeek  Promo2SinceYear PromoInterval\n",
       "713181    367          1  2013-09-30   4757        533     1      0            0              0         d          c              2640.00                       9.00                   2012.00       0              NaN              NaN           NaN"
      ]
     },
     "execution_count": 6,
     "metadata": {},
     "output_type": "execute_result"
    }
   ],
   "source": [
    "#Verifying the merging:\n",
    "\n",
    "df_raw.sample()"
   ]
  },
  {
   "cell_type": "code",
   "execution_count": 7,
   "id": "a6edd025",
   "metadata": {
    "ExecuteTime": {
     "end_time": "2022-01-16T18:56:11.336413Z",
     "start_time": "2022-01-16T18:56:11.227909Z"
    },
    "hidden": true
   },
   "outputs": [],
   "source": [
    "df1 = df_raw.copy()"
   ]
  },
  {
   "cell_type": "markdown",
   "id": "64b521d4",
   "metadata": {
    "heading_collapsed": true
   },
   "source": [
    "# 1. (Passo 1) Descricao dos Dados"
   ]
  },
  {
   "cell_type": "markdown",
   "id": "050ac7a2",
   "metadata": {
    "heading_collapsed": true,
    "hidden": true
   },
   "source": [
    "## 1.1. Renaming the columns "
   ]
  },
  {
   "cell_type": "code",
   "execution_count": 8,
   "id": "4cc56582",
   "metadata": {
    "ExecuteTime": {
     "end_time": "2022-01-16T18:56:11.345402Z",
     "start_time": "2022-01-16T18:56:11.338724Z"
    },
    "hidden": true
   },
   "outputs": [],
   "source": [
    "cols_old = ['Store', 'DayOfWeek', 'Date', 'Sales', 'Customers', 'Open', 'Promo', 'StateHoliday', 'SchoolHoliday',\n",
    "            'StoreType', 'Assortment', 'CompetitionDistance', 'CompetitionOpenSinceMonth',\n",
    "            'CompetitionOpenSinceYear', 'Promo2', 'Promo2SinceWeek', 'Promo2SinceYear', 'PromoInterval']\n",
    "\n",
    "snakecase = lambda x: inflection.underscore(x)\n",
    "\n",
    "cols_new = list( map( snakecase, cols_old ) )  #funcao 'map' faz o mapeamento a partir da funcao 'snakecase' \n",
    "                                               #de todas as palavras da lista 'cols_old'.\n",
    "    \n",
    "#Reanming the columns:\n",
    "df1.columns = cols_new"
   ]
  },
  {
   "cell_type": "markdown",
   "id": "79ee8d10",
   "metadata": {
    "heading_collapsed": true,
    "hidden": true
   },
   "source": [
    "## 1.2. Data Dimensions "
   ]
  },
  {
   "cell_type": "code",
   "execution_count": 9,
   "id": "512f4b9f",
   "metadata": {
    "ExecuteTime": {
     "end_time": "2022-01-16T18:56:11.355762Z",
     "start_time": "2022-01-16T18:56:11.348706Z"
    },
    "hidden": true
   },
   "outputs": [
    {
     "name": "stdout",
     "output_type": "stream",
     "text": [
      "Number of rows: 1017209\n",
      "Number of columns: 18\n"
     ]
    }
   ],
   "source": [
    "print( 'Number of rows: {}'.format( df1.shape[0] ) )\n",
    "\n",
    "print( 'Number of columns: {}'.format( df1.shape[1] ) )"
   ]
  },
  {
   "cell_type": "markdown",
   "id": "08ca43bf",
   "metadata": {
    "heading_collapsed": true,
    "hidden": true
   },
   "source": [
    "## 1.3. Data Types "
   ]
  },
  {
   "cell_type": "code",
   "execution_count": 10,
   "id": "857850c1",
   "metadata": {
    "ExecuteTime": {
     "end_time": "2022-01-16T18:56:11.604904Z",
     "start_time": "2022-01-16T18:56:11.361764Z"
    },
    "hidden": true
   },
   "outputs": [
    {
     "data": {
      "text/plain": [
       "store                                    int64\n",
       "day_of_week                              int64\n",
       "date                            datetime64[ns]\n",
       "sales                                    int64\n",
       "customers                                int64\n",
       "open                                     int64\n",
       "promo                                    int64\n",
       "state_holiday                           object\n",
       "school_holiday                           int64\n",
       "store_type                              object\n",
       "assortment                              object\n",
       "competition_distance                   float64\n",
       "competition_open_since_month           float64\n",
       "competition_open_since_year            float64\n",
       "promo2                                   int64\n",
       "promo2_since_week                      float64\n",
       "promo2_since_year                      float64\n",
       "promo_interval                          object\n",
       "dtype: object"
      ]
     },
     "execution_count": 10,
     "metadata": {},
     "output_type": "execute_result"
    }
   ],
   "source": [
    "df1['date'] = pd.to_datetime( df1['date'] )\n",
    "\n",
    "df1.dtypes"
   ]
  },
  {
   "cell_type": "markdown",
   "id": "41ac8c91",
   "metadata": {
    "heading_collapsed": true,
    "hidden": true
   },
   "source": [
    "## 1.4. Checking the 'NA's  "
   ]
  },
  {
   "cell_type": "code",
   "execution_count": 11,
   "id": "97e30ea3",
   "metadata": {
    "ExecuteTime": {
     "end_time": "2022-01-16T18:56:11.999234Z",
     "start_time": "2022-01-16T18:56:11.607418Z"
    },
    "hidden": true,
    "scrolled": true
   },
   "outputs": [
    {
     "data": {
      "text/plain": [
       "store                                0\n",
       "day_of_week                          0\n",
       "date                                 0\n",
       "sales                                0\n",
       "customers                            0\n",
       "open                                 0\n",
       "promo                                0\n",
       "state_holiday                        0\n",
       "school_holiday                       0\n",
       "store_type                           0\n",
       "assortment                           0\n",
       "competition_distance              2642\n",
       "competition_open_since_month    323348\n",
       "competition_open_since_year     323348\n",
       "promo2                               0\n",
       "promo2_since_week               508031\n",
       "promo2_since_year               508031\n",
       "promo_interval                  508031\n",
       "dtype: int64"
      ]
     },
     "execution_count": 11,
     "metadata": {},
     "output_type": "execute_result"
    }
   ],
   "source": [
    "df1.isna().sum()\n",
    "\n",
    "#É possível observar que da coluna 'store' até a coluna 'assortment', não existem dados faltantes, ou 'NA's. \n",
    "#Entretanto, para as outras colunas, sim! Isso pode variar desde erros manuais na insercao dos dados até \n",
    "#características do negócio que definiram a presenca desses dados faltantes. É interessante entender o motivo\n",
    "#pelo qual esses dados estão como 'NA'."
   ]
  },
  {
   "cell_type": "markdown",
   "id": "f3d0e32d",
   "metadata": {
    "heading_collapsed": true,
    "hidden": true
   },
   "source": [
    "## 1.5. Filling in the 'NA' Data"
   ]
  },
  {
   "cell_type": "code",
   "execution_count": 12,
   "id": "88ddd30c",
   "metadata": {
    "ExecuteTime": {
     "end_time": "2022-01-16T18:56:12.089802Z",
     "start_time": "2022-01-16T18:56:12.002128Z"
    },
    "hidden": true
   },
   "outputs": [
    {
     "data": {
      "text/plain": [
       "array([nan, 'Jan,Apr,Jul,Oct', 'Feb,May,Aug,Nov', 'Mar,Jun,Sept,Dec'],\n",
       "      dtype=object)"
      ]
     },
     "execution_count": 12,
     "metadata": {},
     "output_type": "execute_result"
    }
   ],
   "source": [
    "df1['promo_interval'].unique()"
   ]
  },
  {
   "cell_type": "code",
   "execution_count": 13,
   "id": "0a7d3d7e",
   "metadata": {
    "ExecuteTime": {
     "end_time": "2022-01-16T18:58:16.215427Z",
     "start_time": "2022-01-16T18:56:12.092383Z"
    },
    "hidden": true
   },
   "outputs": [],
   "source": [
    "# competition_distance              2642\n",
    "\n",
    "    #distance in meters to the nearest competitor store.\n",
    "    \n",
    "    ##1st Hypothesis: \n",
    "    ##2nd Hypothesis: \n",
    "    \n",
    "df1['competition_distance'] = df1['competition_distance'].apply( lambda x: 200000.0 if math.isnan(x) else x )\n",
    "    \n",
    "\n",
    "# competition_open_since_month    323348\n",
    "\n",
    "    #gives the approximate month of the time the nearest competitor was opened.\n",
    "    \n",
    "    ##1st Hypothesis: Não existe competidor mais próximo, ou está longe demais, e por isso não existe \n",
    "                     #data de abertura para a competicao mais próxima.\n",
    "    ##2nd Hypothesis: Realmente existe uma competicao próxima (Dentro do range do 'competition_distace'),\n",
    "                     #porém não se sabe quando a loja abriu.\n",
    "    \n",
    "df1['competition_open_since_month'] = df1.apply( lambda x: \n",
    "                                                \n",
    "                                        x['date'].month if math.isnan( x['competition_open_since_month'] ) \n",
    "                                                        else x['competition_open_since_month'], axis = 1 )\n",
    "    \n",
    "\n",
    "# competition_open_since_year     323348\n",
    "\n",
    "    #gives the approximate year of the time the nearest competitor was opened\n",
    "    \n",
    "\n",
    "    \n",
    "df1['competition_open_since_year'] = df1.apply( lambda x: \n",
    "                                                \n",
    "                                        x['date'].year if math.isnan( x['competition_open_since_year'] ) \n",
    "                                                        else x['competition_open_since_year'], axis = 1 )\n",
    "\n",
    "\n",
    "# promo2_since_week               508031\n",
    "\n",
    "    #describes the calendar week when the store started participating in Promo2.\n",
    "    ##If the data within 'promo2_since_week' = Na, it means that the store decided not to participate\n",
    "    ##in the promotion ('promo2'). Hence, there's no info about this.\n",
    "    \n",
    "\n",
    "df1['promo2_since_week'] = df1.apply( lambda x: x['date'].week \n",
    "                                               \n",
    "                                               if math.isnan( x['promo2_since_week'] ) \n",
    "                                               else x['promo2_since_week'], axis = 1 )\n",
    "\n",
    "    \n",
    "\n",
    "#promo2_since_year               508031\n",
    "\n",
    "    #describes the year when the store started participating in Promo2\n",
    "    \n",
    "    \n",
    "df1['promo2_since_year'] = df1.apply( lambda x: x['date'].year \n",
    "                                               \n",
    "                                               if math.isnan( x['promo2_since_year'] ) \n",
    "                                               else x['promo2_since_year'], axis = 1 ) \n",
    "\n",
    "\n",
    "# promo_interval                  508031\n",
    "\n",
    "    #describes the consecutive intervals Promo2 is started, naming the months the promotion is \n",
    "    #started anew. E.g. \"Feb,May,Aug,Nov\" means each round starts in February, May, August, November \n",
    "    #of any given year for that store\n",
    "\n",
    "    \n",
    "month_map = { 1: 'Jan', 2: 'Fev', 3: 'Mar', 4: 'Apr', 5: 'May', 6: 'Jun', 7: 'Jul', 8:'Aug', 9: 'Sept', \n",
    "              10: 'Oct', 11: 'Nov', 12: 'Dec' }\n",
    "\n",
    "df1['promo_interval'].fillna( 0, inplace = True )\n",
    "\n",
    "df1['month_map'] = df1['date'].dt.month.map( month_map )\n",
    "\n",
    "df1['is_promo?'] = df1[['promo_interval', 'month_map']].apply( lambda x: \n",
    "                                                             \n",
    "                                                 0 if x['promo_interval'] == 0 else \n",
    "                                                 1 if x['month_map'] in x['promo_interval'].split(',') else \n",
    "                                                 0, axis = 1 )\n",
    "\n",
    "\n",
    "\n"
   ]
  },
  {
   "cell_type": "code",
   "execution_count": 14,
   "id": "976d6923",
   "metadata": {
    "ExecuteTime": {
     "end_time": "2022-01-16T18:58:16.410015Z",
     "start_time": "2022-01-16T18:58:16.218154Z"
    },
    "hidden": true
   },
   "outputs": [
    {
     "data": {
      "text/html": [
       "<div>\n",
       "<style scoped>\n",
       "    .dataframe tbody tr th:only-of-type {\n",
       "        vertical-align: middle;\n",
       "    }\n",
       "\n",
       "    .dataframe tbody tr th {\n",
       "        vertical-align: top;\n",
       "    }\n",
       "\n",
       "    .dataframe thead th {\n",
       "        text-align: right;\n",
       "    }\n",
       "</style>\n",
       "<table border=\"1\" class=\"dataframe\">\n",
       "  <thead>\n",
       "    <tr style=\"text-align: right;\">\n",
       "      <th></th>\n",
       "      <th>980738</th>\n",
       "      <th>540635</th>\n",
       "      <th>253302</th>\n",
       "      <th>176690</th>\n",
       "      <th>750818</th>\n",
       "      <th>219485</th>\n",
       "      <th>156133</th>\n",
       "      <th>621713</th>\n",
       "      <th>121376</th>\n",
       "      <th>888358</th>\n",
       "    </tr>\n",
       "  </thead>\n",
       "  <tbody>\n",
       "    <tr>\n",
       "      <th>store</th>\n",
       "      <td>324</td>\n",
       "      <td>646</td>\n",
       "      <td>110</td>\n",
       "      <td>521</td>\n",
       "      <td>94</td>\n",
       "      <td>946</td>\n",
       "      <td>34</td>\n",
       "      <td>329</td>\n",
       "      <td>957</td>\n",
       "      <td>489</td>\n",
       "    </tr>\n",
       "    <tr>\n",
       "      <th>day_of_week</th>\n",
       "      <td>6</td>\n",
       "      <td>2</td>\n",
       "      <td>6</td>\n",
       "      <td>1</td>\n",
       "      <td>2</td>\n",
       "      <td>5</td>\n",
       "      <td>5</td>\n",
       "      <td>6</td>\n",
       "      <td>2</td>\n",
       "      <td>5</td>\n",
       "    </tr>\n",
       "    <tr>\n",
       "      <th>date</th>\n",
       "      <td>2013-02-02 00:00:00</td>\n",
       "      <td>2014-03-04 00:00:00</td>\n",
       "      <td>2014-12-13 00:00:00</td>\n",
       "      <td>2015-02-23 00:00:00</td>\n",
       "      <td>2013-08-27 00:00:00</td>\n",
       "      <td>2015-01-16 00:00:00</td>\n",
       "      <td>2015-03-13 00:00:00</td>\n",
       "      <td>2013-12-21 00:00:00</td>\n",
       "      <td>2015-04-14 00:00:00</td>\n",
       "      <td>2013-04-26 00:00:00</td>\n",
       "    </tr>\n",
       "    <tr>\n",
       "      <th>sales</th>\n",
       "      <td>2136</td>\n",
       "      <td>2819</td>\n",
       "      <td>4061</td>\n",
       "      <td>3384</td>\n",
       "      <td>7835</td>\n",
       "      <td>3679</td>\n",
       "      <td>6370</td>\n",
       "      <td>6047</td>\n",
       "      <td>11296</td>\n",
       "      <td>7081</td>\n",
       "    </tr>\n",
       "    <tr>\n",
       "      <th>customers</th>\n",
       "      <td>318</td>\n",
       "      <td>394</td>\n",
       "      <td>510</td>\n",
       "      <td>292</td>\n",
       "      <td>695</td>\n",
       "      <td>485</td>\n",
       "      <td>871</td>\n",
       "      <td>581</td>\n",
       "      <td>1071</td>\n",
       "      <td>639</td>\n",
       "    </tr>\n",
       "    <tr>\n",
       "      <th>open</th>\n",
       "      <td>1</td>\n",
       "      <td>1</td>\n",
       "      <td>1</td>\n",
       "      <td>1</td>\n",
       "      <td>1</td>\n",
       "      <td>1</td>\n",
       "      <td>1</td>\n",
       "      <td>1</td>\n",
       "      <td>1</td>\n",
       "      <td>1</td>\n",
       "    </tr>\n",
       "    <tr>\n",
       "      <th>promo</th>\n",
       "      <td>0</td>\n",
       "      <td>1</td>\n",
       "      <td>0</td>\n",
       "      <td>0</td>\n",
       "      <td>1</td>\n",
       "      <td>1</td>\n",
       "      <td>0</td>\n",
       "      <td>0</td>\n",
       "      <td>1</td>\n",
       "      <td>1</td>\n",
       "    </tr>\n",
       "    <tr>\n",
       "      <th>state_holiday</th>\n",
       "      <td>0</td>\n",
       "      <td>0</td>\n",
       "      <td>0</td>\n",
       "      <td>0</td>\n",
       "      <td>0</td>\n",
       "      <td>0</td>\n",
       "      <td>0</td>\n",
       "      <td>0</td>\n",
       "      <td>0</td>\n",
       "      <td>0</td>\n",
       "    </tr>\n",
       "    <tr>\n",
       "      <th>school_holiday</th>\n",
       "      <td>0</td>\n",
       "      <td>1</td>\n",
       "      <td>0</td>\n",
       "      <td>0</td>\n",
       "      <td>1</td>\n",
       "      <td>0</td>\n",
       "      <td>0</td>\n",
       "      <td>0</td>\n",
       "      <td>0</td>\n",
       "      <td>0</td>\n",
       "    </tr>\n",
       "    <tr>\n",
       "      <th>store_type</th>\n",
       "      <td>a</td>\n",
       "      <td>a</td>\n",
       "      <td>a</td>\n",
       "      <td>d</td>\n",
       "      <td>d</td>\n",
       "      <td>a</td>\n",
       "      <td>c</td>\n",
       "      <td>a</td>\n",
       "      <td>d</td>\n",
       "      <td>a</td>\n",
       "    </tr>\n",
       "    <tr>\n",
       "      <th>assortment</th>\n",
       "      <td>a</td>\n",
       "      <td>a</td>\n",
       "      <td>c</td>\n",
       "      <td>a</td>\n",
       "      <td>c</td>\n",
       "      <td>a</td>\n",
       "      <td>a</td>\n",
       "      <td>a</td>\n",
       "      <td>c</td>\n",
       "      <td>a</td>\n",
       "    </tr>\n",
       "    <tr>\n",
       "      <th>competition_distance</th>\n",
       "      <td>13140.00</td>\n",
       "      <td>620.00</td>\n",
       "      <td>46590.00</td>\n",
       "      <td>18610.00</td>\n",
       "      <td>14620.00</td>\n",
       "      <td>2220.00</td>\n",
       "      <td>2240.00</td>\n",
       "      <td>1310.00</td>\n",
       "      <td>1420.00</td>\n",
       "      <td>14960.00</td>\n",
       "    </tr>\n",
       "    <tr>\n",
       "      <th>competition_open_since_month</th>\n",
       "      <td>2.00</td>\n",
       "      <td>9.00</td>\n",
       "      <td>4.00</td>\n",
       "      <td>11.00</td>\n",
       "      <td>8.00</td>\n",
       "      <td>12.00</td>\n",
       "      <td>9.00</td>\n",
       "      <td>6.00</td>\n",
       "      <td>11.00</td>\n",
       "      <td>11.00</td>\n",
       "    </tr>\n",
       "    <tr>\n",
       "      <th>competition_open_since_year</th>\n",
       "      <td>2013.00</td>\n",
       "      <td>2014.00</td>\n",
       "      <td>2013.00</td>\n",
       "      <td>2002.00</td>\n",
       "      <td>2013.00</td>\n",
       "      <td>2011.00</td>\n",
       "      <td>2009.00</td>\n",
       "      <td>1990.00</td>\n",
       "      <td>2012.00</td>\n",
       "      <td>2013.00</td>\n",
       "    </tr>\n",
       "    <tr>\n",
       "      <th>promo2</th>\n",
       "      <td>1</td>\n",
       "      <td>0</td>\n",
       "      <td>0</td>\n",
       "      <td>1</td>\n",
       "      <td>0</td>\n",
       "      <td>1</td>\n",
       "      <td>0</td>\n",
       "      <td>1</td>\n",
       "      <td>0</td>\n",
       "      <td>1</td>\n",
       "    </tr>\n",
       "    <tr>\n",
       "      <th>promo2_since_week</th>\n",
       "      <td>14.00</td>\n",
       "      <td>10.00</td>\n",
       "      <td>50.00</td>\n",
       "      <td>48.00</td>\n",
       "      <td>35.00</td>\n",
       "      <td>14.00</td>\n",
       "      <td>11.00</td>\n",
       "      <td>22.00</td>\n",
       "      <td>16.00</td>\n",
       "      <td>37.00</td>\n",
       "    </tr>\n",
       "    <tr>\n",
       "      <th>promo2_since_year</th>\n",
       "      <td>2011.00</td>\n",
       "      <td>2014.00</td>\n",
       "      <td>2014.00</td>\n",
       "      <td>2011.00</td>\n",
       "      <td>2013.00</td>\n",
       "      <td>2015.00</td>\n",
       "      <td>2015.00</td>\n",
       "      <td>2012.00</td>\n",
       "      <td>2015.00</td>\n",
       "      <td>2009.00</td>\n",
       "    </tr>\n",
       "    <tr>\n",
       "      <th>promo_interval</th>\n",
       "      <td>Jan,Apr,Jul,Oct</td>\n",
       "      <td>0</td>\n",
       "      <td>0</td>\n",
       "      <td>Mar,Jun,Sept,Dec</td>\n",
       "      <td>0</td>\n",
       "      <td>Jan,Apr,Jul,Oct</td>\n",
       "      <td>0</td>\n",
       "      <td>Mar,Jun,Sept,Dec</td>\n",
       "      <td>0</td>\n",
       "      <td>Jan,Apr,Jul,Oct</td>\n",
       "    </tr>\n",
       "    <tr>\n",
       "      <th>month_map</th>\n",
       "      <td>Fev</td>\n",
       "      <td>Mar</td>\n",
       "      <td>Dec</td>\n",
       "      <td>Fev</td>\n",
       "      <td>Aug</td>\n",
       "      <td>Jan</td>\n",
       "      <td>Mar</td>\n",
       "      <td>Dec</td>\n",
       "      <td>Apr</td>\n",
       "      <td>Apr</td>\n",
       "    </tr>\n",
       "    <tr>\n",
       "      <th>is_promo?</th>\n",
       "      <td>0</td>\n",
       "      <td>0</td>\n",
       "      <td>0</td>\n",
       "      <td>0</td>\n",
       "      <td>0</td>\n",
       "      <td>1</td>\n",
       "      <td>0</td>\n",
       "      <td>1</td>\n",
       "      <td>0</td>\n",
       "      <td>1</td>\n",
       "    </tr>\n",
       "  </tbody>\n",
       "</table>\n",
       "</div>"
      ],
      "text/plain": [
       "                                           980738               540635               253302               176690               750818               219485               156133               621713               121376               888358\n",
       "store                                         324                  646                  110                  521                   94                  946                   34                  329                  957                  489\n",
       "day_of_week                                     6                    2                    6                    1                    2                    5                    5                    6                    2                    5\n",
       "date                          2013-02-02 00:00:00  2014-03-04 00:00:00  2014-12-13 00:00:00  2015-02-23 00:00:00  2013-08-27 00:00:00  2015-01-16 00:00:00  2015-03-13 00:00:00  2013-12-21 00:00:00  2015-04-14 00:00:00  2013-04-26 00:00:00\n",
       "sales                                        2136                 2819                 4061                 3384                 7835                 3679                 6370                 6047                11296                 7081\n",
       "customers                                     318                  394                  510                  292                  695                  485                  871                  581                 1071                  639\n",
       "open                                            1                    1                    1                    1                    1                    1                    1                    1                    1                    1\n",
       "promo                                           0                    1                    0                    0                    1                    1                    0                    0                    1                    1\n",
       "state_holiday                                   0                    0                    0                    0                    0                    0                    0                    0                    0                    0\n",
       "school_holiday                                  0                    1                    0                    0                    1                    0                    0                    0                    0                    0\n",
       "store_type                                      a                    a                    a                    d                    d                    a                    c                    a                    d                    a\n",
       "assortment                                      a                    a                    c                    a                    c                    a                    a                    a                    c                    a\n",
       "competition_distance                     13140.00               620.00             46590.00             18610.00             14620.00              2220.00              2240.00              1310.00              1420.00             14960.00\n",
       "competition_open_since_month                 2.00                 9.00                 4.00                11.00                 8.00                12.00                 9.00                 6.00                11.00                11.00\n",
       "competition_open_since_year               2013.00              2014.00              2013.00              2002.00              2013.00              2011.00              2009.00              1990.00              2012.00              2013.00\n",
       "promo2                                          1                    0                    0                    1                    0                    1                    0                    1                    0                    1\n",
       "promo2_since_week                           14.00                10.00                50.00                48.00                35.00                14.00                11.00                22.00                16.00                37.00\n",
       "promo2_since_year                         2011.00              2014.00              2014.00              2011.00              2013.00              2015.00              2015.00              2012.00              2015.00              2009.00\n",
       "promo_interval                    Jan,Apr,Jul,Oct                    0                    0     Mar,Jun,Sept,Dec                    0      Jan,Apr,Jul,Oct                    0     Mar,Jun,Sept,Dec                    0      Jan,Apr,Jul,Oct\n",
       "month_map                                     Fev                  Mar                  Dec                  Fev                  Aug                  Jan                  Mar                  Dec                  Apr                  Apr\n",
       "is_promo?                                       0                    0                    0                    0                    0                    1                    0                    1                    0                    1"
      ]
     },
     "execution_count": 14,
     "metadata": {},
     "output_type": "execute_result"
    }
   ],
   "source": [
    "df1.sample(10).T"
   ]
  },
  {
   "cell_type": "code",
   "execution_count": 15,
   "id": "426b201c",
   "metadata": {
    "ExecuteTime": {
     "end_time": "2022-01-16T18:58:16.859957Z",
     "start_time": "2022-01-16T18:58:16.412425Z"
    },
    "hidden": true
   },
   "outputs": [
    {
     "data": {
      "text/plain": [
       "store                           0\n",
       "day_of_week                     0\n",
       "date                            0\n",
       "sales                           0\n",
       "customers                       0\n",
       "open                            0\n",
       "promo                           0\n",
       "state_holiday                   0\n",
       "school_holiday                  0\n",
       "store_type                      0\n",
       "assortment                      0\n",
       "competition_distance            0\n",
       "competition_open_since_month    0\n",
       "competition_open_since_year     0\n",
       "promo2                          0\n",
       "promo2_since_week               0\n",
       "promo2_since_year               0\n",
       "promo_interval                  0\n",
       "month_map                       0\n",
       "is_promo?                       0\n",
       "dtype: int64"
      ]
     },
     "execution_count": 15,
     "metadata": {},
     "output_type": "execute_result"
    }
   ],
   "source": [
    "df1.isna().sum()"
   ]
  },
  {
   "cell_type": "code",
   "execution_count": 16,
   "id": "b234288e",
   "metadata": {
    "ExecuteTime": {
     "end_time": "2022-01-16T18:58:16.918420Z",
     "start_time": "2022-01-16T18:58:16.862325Z"
    },
    "hidden": true
   },
   "outputs": [
    {
     "data": {
      "text/html": [
       "<div>\n",
       "<style scoped>\n",
       "    .dataframe tbody tr th:only-of-type {\n",
       "        vertical-align: middle;\n",
       "    }\n",
       "\n",
       "    .dataframe tbody tr th {\n",
       "        vertical-align: top;\n",
       "    }\n",
       "\n",
       "    .dataframe thead th {\n",
       "        text-align: right;\n",
       "    }\n",
       "</style>\n",
       "<table border=\"1\" class=\"dataframe\">\n",
       "  <thead>\n",
       "    <tr style=\"text-align: right;\">\n",
       "      <th></th>\n",
       "      <th>559387</th>\n",
       "    </tr>\n",
       "  </thead>\n",
       "  <tbody>\n",
       "    <tr>\n",
       "      <th>store</th>\n",
       "      <td>443</td>\n",
       "    </tr>\n",
       "    <tr>\n",
       "      <th>day_of_week</th>\n",
       "      <td>6</td>\n",
       "    </tr>\n",
       "    <tr>\n",
       "      <th>date</th>\n",
       "      <td>2014-02-15 00:00:00</td>\n",
       "    </tr>\n",
       "    <tr>\n",
       "      <th>sales</th>\n",
       "      <td>3282</td>\n",
       "    </tr>\n",
       "    <tr>\n",
       "      <th>customers</th>\n",
       "      <td>380</td>\n",
       "    </tr>\n",
       "    <tr>\n",
       "      <th>open</th>\n",
       "      <td>1</td>\n",
       "    </tr>\n",
       "    <tr>\n",
       "      <th>promo</th>\n",
       "      <td>0</td>\n",
       "    </tr>\n",
       "    <tr>\n",
       "      <th>state_holiday</th>\n",
       "      <td>0</td>\n",
       "    </tr>\n",
       "    <tr>\n",
       "      <th>school_holiday</th>\n",
       "      <td>0</td>\n",
       "    </tr>\n",
       "    <tr>\n",
       "      <th>store_type</th>\n",
       "      <td>d</td>\n",
       "    </tr>\n",
       "    <tr>\n",
       "      <th>assortment</th>\n",
       "      <td>a</td>\n",
       "    </tr>\n",
       "    <tr>\n",
       "      <th>competition_distance</th>\n",
       "      <td>11400.00</td>\n",
       "    </tr>\n",
       "    <tr>\n",
       "      <th>competition_open_since_month</th>\n",
       "      <td>12.00</td>\n",
       "    </tr>\n",
       "    <tr>\n",
       "      <th>competition_open_since_year</th>\n",
       "      <td>2005.00</td>\n",
       "    </tr>\n",
       "    <tr>\n",
       "      <th>promo2</th>\n",
       "      <td>0</td>\n",
       "    </tr>\n",
       "    <tr>\n",
       "      <th>promo2_since_week</th>\n",
       "      <td>7.00</td>\n",
       "    </tr>\n",
       "    <tr>\n",
       "      <th>promo2_since_year</th>\n",
       "      <td>2014.00</td>\n",
       "    </tr>\n",
       "    <tr>\n",
       "      <th>promo_interval</th>\n",
       "      <td>0</td>\n",
       "    </tr>\n",
       "    <tr>\n",
       "      <th>month_map</th>\n",
       "      <td>Fev</td>\n",
       "    </tr>\n",
       "    <tr>\n",
       "      <th>is_promo?</th>\n",
       "      <td>0</td>\n",
       "    </tr>\n",
       "  </tbody>\n",
       "</table>\n",
       "</div>"
      ],
      "text/plain": [
       "                                           559387\n",
       "store                                         443\n",
       "day_of_week                                     6\n",
       "date                          2014-02-15 00:00:00\n",
       "sales                                        3282\n",
       "customers                                     380\n",
       "open                                            1\n",
       "promo                                           0\n",
       "state_holiday                                   0\n",
       "school_holiday                                  0\n",
       "store_type                                      d\n",
       "assortment                                      a\n",
       "competition_distance                     11400.00\n",
       "competition_open_since_month                12.00\n",
       "competition_open_since_year               2005.00\n",
       "promo2                                          0\n",
       "promo2_since_week                            7.00\n",
       "promo2_since_year                         2014.00\n",
       "promo_interval                                  0\n",
       "month_map                                     Fev\n",
       "is_promo?                                       0"
      ]
     },
     "execution_count": 16,
     "metadata": {},
     "output_type": "execute_result"
    }
   ],
   "source": [
    "df1.sample().T"
   ]
  },
  {
   "cell_type": "markdown",
   "id": "b5eba0e7",
   "metadata": {
    "heading_collapsed": true,
    "hidden": true
   },
   "source": [
    "## 1.6. Changing the Data Types"
   ]
  },
  {
   "cell_type": "code",
   "execution_count": 17,
   "id": "e5a4627b",
   "metadata": {
    "ExecuteTime": {
     "end_time": "2022-01-16T18:58:16.970457Z",
     "start_time": "2022-01-16T18:58:16.920791Z"
    },
    "hidden": true
   },
   "outputs": [],
   "source": [
    "#It's necessary to change the type of variable of 'competition_open_since_month' e 'competition_open_since_year'\n",
    "\n",
    "df1['competition_open_since_month'] = df1['competition_open_since_month'].astype(int)\n",
    "df1['competition_open_since_year'] = df1['competition_open_since_year'].astype(int)\n",
    "\n",
    "df1['promo2_since_week'] = df1['promo2_since_week'].astype(int)\n",
    "df1['promo2_since_year'] = df1['promo2_since_year'].astype(int)"
   ]
  },
  {
   "cell_type": "markdown",
   "id": "66d2a110",
   "metadata": {
    "hidden": true
   },
   "source": [
    "## 1.7. Statistical Description "
   ]
  },
  {
   "cell_type": "code",
   "execution_count": 18,
   "id": "c8eda5f9",
   "metadata": {
    "ExecuteTime": {
     "end_time": "2022-01-16T18:58:16.979583Z",
     "start_time": "2022-01-16T18:58:16.972220Z"
    },
    "hidden": true
   },
   "outputs": [
    {
     "data": {
      "text/plain": [
       "store                                    int64\n",
       "day_of_week                              int64\n",
       "date                            datetime64[ns]\n",
       "sales                                    int64\n",
       "customers                                int64\n",
       "open                                     int64\n",
       "promo                                    int64\n",
       "state_holiday                           object\n",
       "school_holiday                           int64\n",
       "store_type                              object\n",
       "assortment                              object\n",
       "competition_distance                   float64\n",
       "competition_open_since_month             int64\n",
       "competition_open_since_year              int64\n",
       "promo2                                   int64\n",
       "promo2_since_week                        int64\n",
       "promo2_since_year                        int64\n",
       "promo_interval                          object\n",
       "month_map                               object\n",
       "is_promo?                                int64\n",
       "dtype: object"
      ]
     },
     "execution_count": 18,
     "metadata": {},
     "output_type": "execute_result"
    }
   ],
   "source": [
    "df1.dtypes"
   ]
  },
  {
   "cell_type": "markdown",
   "id": "a7738623",
   "metadata": {
    "ExecuteTime": {
     "end_time": "2022-01-13T15:09:04.606147Z",
     "start_time": "2022-01-13T15:09:04.603357Z"
    },
    "hidden": true
   },
   "source": [
    "### 1.7.1. Numerical Attributes"
   ]
  },
  {
   "cell_type": "code",
   "execution_count": 19,
   "id": "8ba0e44f",
   "metadata": {
    "ExecuteTime": {
     "end_time": "2022-01-16T18:58:17.268406Z",
     "start_time": "2022-01-16T18:58:16.981441Z"
    },
    "hidden": true
   },
   "outputs": [],
   "source": [
    "num_attributes = df1.select_dtypes( include = ['float64','int64'] )  #Only numerical variables\n",
    "cat_attributes = df1.select_dtypes( exclude = ['float64','int64', 'datetime64[ns]'] )  #Only string variables"
   ]
  },
  {
   "cell_type": "code",
   "execution_count": 20,
   "id": "ea0ed286",
   "metadata": {
    "ExecuteTime": {
     "end_time": "2022-01-16T18:58:17.936174Z",
     "start_time": "2022-01-16T18:58:17.270809Z"
    },
    "hidden": true
   },
   "outputs": [],
   "source": [
    "# Central Tendency (mean, median)\n",
    "\n",
    "## Mean:\n",
    "ct1 = pd.DataFrame( num_attributes.apply( np.mean ) ).T\n",
    "\n",
    "## Median:\n",
    "ct2 = pd.DataFrame( num_attributes.apply( np.median ) ).T\n",
    "    \n",
    "\n",
    "# Dispersion (max, min, std, range, skew, kurtosis)\n",
    "\n",
    "## Standard Deviation:\n",
    "d1 = pd.DataFrame( num_attributes.apply( np.std ) ).T\n",
    "\n",
    "## Minimum:\n",
    "d2 = pd.DataFrame( num_attributes.apply( np.min ) ).T\n",
    "\n",
    "## Maximum:\n",
    "d3 = pd.DataFrame( num_attributes.apply( np.max ) ).T\n",
    "\n",
    "## Range: \n",
    "d4 = pd.DataFrame( num_attributes.apply( lambda x: x.max() - x.min() ) ).T\n",
    "\n",
    "## Skew:\n",
    "d5 = pd.DataFrame( num_attributes.apply( lambda x: x.skew() ) ).T\n",
    "\n",
    "## Kurtosis:\n",
    "d6 = pd.DataFrame( num_attributes.apply( lambda x: x.kurtosis() ) ).T\n",
    "\n",
    "\n",
    "# Concatenating all operations:\n",
    "metrics = pd.concat( [ d2, d3, d4, ct1, ct2, d1, d5, d6 ] ).T.reset_index()\n",
    "\n",
    "metrics.columns = [ 'Attributes', 'Min', 'Max', 'Range', 'Mean', 'Median', 'StD', 'Skew', 'Kurtosis' ] "
   ]
  },
  {
   "cell_type": "code",
   "execution_count": 21,
   "id": "36044e03",
   "metadata": {
    "ExecuteTime": {
     "end_time": "2022-01-16T18:58:17.954294Z",
     "start_time": "2022-01-16T18:58:17.938324Z"
    },
    "hidden": true,
    "scrolled": false
   },
   "outputs": [
    {
     "data": {
      "text/html": [
       "<div>\n",
       "<style scoped>\n",
       "    .dataframe tbody tr th:only-of-type {\n",
       "        vertical-align: middle;\n",
       "    }\n",
       "\n",
       "    .dataframe tbody tr th {\n",
       "        vertical-align: top;\n",
       "    }\n",
       "\n",
       "    .dataframe thead th {\n",
       "        text-align: right;\n",
       "    }\n",
       "</style>\n",
       "<table border=\"1\" class=\"dataframe\">\n",
       "  <thead>\n",
       "    <tr style=\"text-align: right;\">\n",
       "      <th></th>\n",
       "      <th>Attributes</th>\n",
       "      <th>Min</th>\n",
       "      <th>Max</th>\n",
       "      <th>Range</th>\n",
       "      <th>Mean</th>\n",
       "      <th>Median</th>\n",
       "      <th>StD</th>\n",
       "      <th>Skew</th>\n",
       "      <th>Kurtosis</th>\n",
       "    </tr>\n",
       "  </thead>\n",
       "  <tbody>\n",
       "    <tr>\n",
       "      <th>0</th>\n",
       "      <td>store</td>\n",
       "      <td>1.00</td>\n",
       "      <td>1115.00</td>\n",
       "      <td>1114.00</td>\n",
       "      <td>558.43</td>\n",
       "      <td>558.00</td>\n",
       "      <td>321.91</td>\n",
       "      <td>-0.00</td>\n",
       "      <td>-1.20</td>\n",
       "    </tr>\n",
       "    <tr>\n",
       "      <th>1</th>\n",
       "      <td>day_of_week</td>\n",
       "      <td>1.00</td>\n",
       "      <td>7.00</td>\n",
       "      <td>6.00</td>\n",
       "      <td>4.00</td>\n",
       "      <td>4.00</td>\n",
       "      <td>2.00</td>\n",
       "      <td>0.00</td>\n",
       "      <td>-1.25</td>\n",
       "    </tr>\n",
       "    <tr>\n",
       "      <th>2</th>\n",
       "      <td>sales</td>\n",
       "      <td>0.00</td>\n",
       "      <td>41551.00</td>\n",
       "      <td>41551.00</td>\n",
       "      <td>5773.82</td>\n",
       "      <td>5744.00</td>\n",
       "      <td>3849.92</td>\n",
       "      <td>0.64</td>\n",
       "      <td>1.78</td>\n",
       "    </tr>\n",
       "    <tr>\n",
       "      <th>3</th>\n",
       "      <td>customers</td>\n",
       "      <td>0.00</td>\n",
       "      <td>7388.00</td>\n",
       "      <td>7388.00</td>\n",
       "      <td>633.15</td>\n",
       "      <td>609.00</td>\n",
       "      <td>464.41</td>\n",
       "      <td>1.60</td>\n",
       "      <td>7.09</td>\n",
       "    </tr>\n",
       "    <tr>\n",
       "      <th>4</th>\n",
       "      <td>open</td>\n",
       "      <td>0.00</td>\n",
       "      <td>1.00</td>\n",
       "      <td>1.00</td>\n",
       "      <td>0.83</td>\n",
       "      <td>1.00</td>\n",
       "      <td>0.38</td>\n",
       "      <td>-1.76</td>\n",
       "      <td>1.09</td>\n",
       "    </tr>\n",
       "    <tr>\n",
       "      <th>5</th>\n",
       "      <td>promo</td>\n",
       "      <td>0.00</td>\n",
       "      <td>1.00</td>\n",
       "      <td>1.00</td>\n",
       "      <td>0.38</td>\n",
       "      <td>0.00</td>\n",
       "      <td>0.49</td>\n",
       "      <td>0.49</td>\n",
       "      <td>-1.76</td>\n",
       "    </tr>\n",
       "    <tr>\n",
       "      <th>6</th>\n",
       "      <td>school_holiday</td>\n",
       "      <td>0.00</td>\n",
       "      <td>1.00</td>\n",
       "      <td>1.00</td>\n",
       "      <td>0.18</td>\n",
       "      <td>0.00</td>\n",
       "      <td>0.38</td>\n",
       "      <td>1.68</td>\n",
       "      <td>0.82</td>\n",
       "    </tr>\n",
       "    <tr>\n",
       "      <th>7</th>\n",
       "      <td>competition_distance</td>\n",
       "      <td>20.00</td>\n",
       "      <td>200000.00</td>\n",
       "      <td>199980.00</td>\n",
       "      <td>5935.44</td>\n",
       "      <td>2330.00</td>\n",
       "      <td>12547.65</td>\n",
       "      <td>10.24</td>\n",
       "      <td>147.79</td>\n",
       "    </tr>\n",
       "    <tr>\n",
       "      <th>8</th>\n",
       "      <td>competition_open_since_month</td>\n",
       "      <td>1.00</td>\n",
       "      <td>12.00</td>\n",
       "      <td>11.00</td>\n",
       "      <td>6.79</td>\n",
       "      <td>7.00</td>\n",
       "      <td>3.31</td>\n",
       "      <td>-0.04</td>\n",
       "      <td>-1.23</td>\n",
       "    </tr>\n",
       "    <tr>\n",
       "      <th>9</th>\n",
       "      <td>competition_open_since_year</td>\n",
       "      <td>1900.00</td>\n",
       "      <td>2015.00</td>\n",
       "      <td>115.00</td>\n",
       "      <td>2010.32</td>\n",
       "      <td>2012.00</td>\n",
       "      <td>5.52</td>\n",
       "      <td>-7.24</td>\n",
       "      <td>124.07</td>\n",
       "    </tr>\n",
       "    <tr>\n",
       "      <th>10</th>\n",
       "      <td>promo2</td>\n",
       "      <td>0.00</td>\n",
       "      <td>1.00</td>\n",
       "      <td>1.00</td>\n",
       "      <td>0.50</td>\n",
       "      <td>1.00</td>\n",
       "      <td>0.50</td>\n",
       "      <td>-0.00</td>\n",
       "      <td>-2.00</td>\n",
       "    </tr>\n",
       "    <tr>\n",
       "      <th>11</th>\n",
       "      <td>promo2_since_week</td>\n",
       "      <td>1.00</td>\n",
       "      <td>52.00</td>\n",
       "      <td>51.00</td>\n",
       "      <td>23.62</td>\n",
       "      <td>22.00</td>\n",
       "      <td>14.31</td>\n",
       "      <td>0.18</td>\n",
       "      <td>-1.18</td>\n",
       "    </tr>\n",
       "    <tr>\n",
       "      <th>12</th>\n",
       "      <td>promo2_since_year</td>\n",
       "      <td>2009.00</td>\n",
       "      <td>2015.00</td>\n",
       "      <td>6.00</td>\n",
       "      <td>2012.79</td>\n",
       "      <td>2013.00</td>\n",
       "      <td>1.66</td>\n",
       "      <td>-0.78</td>\n",
       "      <td>-0.21</td>\n",
       "    </tr>\n",
       "    <tr>\n",
       "      <th>13</th>\n",
       "      <td>is_promo?</td>\n",
       "      <td>0.00</td>\n",
       "      <td>1.00</td>\n",
       "      <td>1.00</td>\n",
       "      <td>0.16</td>\n",
       "      <td>0.00</td>\n",
       "      <td>0.37</td>\n",
       "      <td>1.84</td>\n",
       "      <td>1.40</td>\n",
       "    </tr>\n",
       "  </tbody>\n",
       "</table>\n",
       "</div>"
      ],
      "text/plain": [
       "                      Attributes     Min       Max     Range    Mean  Median      StD  Skew  Kurtosis\n",
       "0                          store    1.00   1115.00   1114.00  558.43  558.00   321.91 -0.00     -1.20\n",
       "1                    day_of_week    1.00      7.00      6.00    4.00    4.00     2.00  0.00     -1.25\n",
       "2                          sales    0.00  41551.00  41551.00 5773.82 5744.00  3849.92  0.64      1.78\n",
       "3                      customers    0.00   7388.00   7388.00  633.15  609.00   464.41  1.60      7.09\n",
       "4                           open    0.00      1.00      1.00    0.83    1.00     0.38 -1.76      1.09\n",
       "5                          promo    0.00      1.00      1.00    0.38    0.00     0.49  0.49     -1.76\n",
       "6                 school_holiday    0.00      1.00      1.00    0.18    0.00     0.38  1.68      0.82\n",
       "7           competition_distance   20.00 200000.00 199980.00 5935.44 2330.00 12547.65 10.24    147.79\n",
       "8   competition_open_since_month    1.00     12.00     11.00    6.79    7.00     3.31 -0.04     -1.23\n",
       "9    competition_open_since_year 1900.00   2015.00    115.00 2010.32 2012.00     5.52 -7.24    124.07\n",
       "10                        promo2    0.00      1.00      1.00    0.50    1.00     0.50 -0.00     -2.00\n",
       "11             promo2_since_week    1.00     52.00     51.00   23.62   22.00    14.31  0.18     -1.18\n",
       "12             promo2_since_year 2009.00   2015.00      6.00 2012.79 2013.00     1.66 -0.78     -0.21\n",
       "13                     is_promo?    0.00      1.00      1.00    0.16    0.00     0.37  1.84      1.40"
      ]
     },
     "execution_count": 21,
     "metadata": {},
     "output_type": "execute_result"
    }
   ],
   "source": [
    "metrics"
   ]
  },
  {
   "cell_type": "code",
   "execution_count": 22,
   "id": "be13c4b4",
   "metadata": {
    "ExecuteTime": {
     "end_time": "2022-01-16T18:58:24.368364Z",
     "start_time": "2022-01-16T18:58:17.956764Z"
    },
    "hidden": true,
    "scrolled": false
   },
   "outputs": [
    {
     "name": "stderr",
     "output_type": "stream",
     "text": [
      "/home/renanpacheco/.local/lib/python3.9/site-packages/seaborn/distributions.py:2619: FutureWarning: `distplot` is a deprecated function and will be removed in a future version. Please adapt your code to use either `displot` (a figure-level function with similar flexibility) or `histplot` (an axes-level function for histograms).\n",
      "  warnings.warn(msg, FutureWarning)\n"
     ]
    },
    {
     "data": {
      "text/plain": [
       "<AxesSubplot:ylabel='Density'>"
      ]
     },
     "execution_count": 22,
     "metadata": {},
     "output_type": "execute_result"
    },
    {
     "data": {
      "image/png": "[encoded data removed]",
      "text/plain": [
       "<Figure size 1440x720 with 1 Axes>"
      ]
     },
     "metadata": {},
     "output_type": "display_data"
    }
   ],
   "source": [
    "sns.distplot( df1[['competition_distance']] )"
   ]
  },
  {
   "cell_type": "markdown",
   "id": "f5c2fdb5",
   "metadata": {
    "hidden": true
   },
   "source": [
    "### 1.7.2. Categorical Attributes "
   ]
  },
  {
   "cell_type": "code",
   "execution_count": 23,
   "id": "7a86694d",
   "metadata": {
    "ExecuteTime": {
     "end_time": "2022-01-16T18:58:24.374934Z",
     "start_time": "2022-01-16T18:58:24.371445Z"
    },
    "hidden": true
   },
   "outputs": [],
   "source": [
    "# Categorical Attributes, ou variáveis categóricas, são os atributos que são influenciados em funcão da categoria\n",
    "# pelo qual pertencem. "
   ]
  },
  {
   "cell_type": "code",
   "execution_count": 24,
   "id": "26d3ed9c",
   "metadata": {
    "ExecuteTime": {
     "end_time": "2022-01-16T18:58:24.386030Z",
     "start_time": "2022-01-16T18:58:24.377999Z"
    },
    "hidden": true
   },
   "outputs": [
    {
     "data": {
      "text/plain": [
       "state_holiday     object\n",
       "store_type        object\n",
       "assortment        object\n",
       "promo_interval    object\n",
       "month_map         object\n",
       "dtype: object"
      ]
     },
     "execution_count": 24,
     "metadata": {},
     "output_type": "execute_result"
    }
   ],
   "source": [
    "cat_attributes.dtypes"
   ]
  },
  {
   "cell_type": "code",
   "execution_count": 25,
   "id": "a4d50ed7",
   "metadata": {
    "ExecuteTime": {
     "end_time": "2022-01-16T18:58:24.414985Z",
     "start_time": "2022-01-16T18:58:24.388656Z"
    },
    "hidden": true
   },
   "outputs": [
    {
     "data": {
      "text/html": [
       "<div>\n",
       "<style scoped>\n",
       "    .dataframe tbody tr th:only-of-type {\n",
       "        vertical-align: middle;\n",
       "    }\n",
       "\n",
       "    .dataframe tbody tr th {\n",
       "        vertical-align: top;\n",
       "    }\n",
       "\n",
       "    .dataframe thead th {\n",
       "        text-align: right;\n",
       "    }\n",
       "</style>\n",
       "<table border=\"1\" class=\"dataframe\">\n",
       "  <thead>\n",
       "    <tr style=\"text-align: right;\">\n",
       "      <th></th>\n",
       "      <th>store</th>\n",
       "      <th>day_of_week</th>\n",
       "      <th>date</th>\n",
       "      <th>sales</th>\n",
       "      <th>customers</th>\n",
       "      <th>open</th>\n",
       "      <th>promo</th>\n",
       "      <th>state_holiday</th>\n",
       "      <th>school_holiday</th>\n",
       "      <th>store_type</th>\n",
       "      <th>assortment</th>\n",
       "      <th>competition_distance</th>\n",
       "      <th>competition_open_since_month</th>\n",
       "      <th>competition_open_since_year</th>\n",
       "      <th>promo2</th>\n",
       "      <th>promo2_since_week</th>\n",
       "      <th>promo2_since_year</th>\n",
       "      <th>promo_interval</th>\n",
       "      <th>month_map</th>\n",
       "      <th>is_promo?</th>\n",
       "    </tr>\n",
       "  </thead>\n",
       "  <tbody>\n",
       "    <tr>\n",
       "      <th>0</th>\n",
       "      <td>1</td>\n",
       "      <td>5</td>\n",
       "      <td>2015-07-31</td>\n",
       "      <td>5263</td>\n",
       "      <td>555</td>\n",
       "      <td>1</td>\n",
       "      <td>1</td>\n",
       "      <td>0</td>\n",
       "      <td>1</td>\n",
       "      <td>c</td>\n",
       "      <td>a</td>\n",
       "      <td>1270.00</td>\n",
       "      <td>9</td>\n",
       "      <td>2008</td>\n",
       "      <td>0</td>\n",
       "      <td>31</td>\n",
       "      <td>2015</td>\n",
       "      <td>0</td>\n",
       "      <td>Jul</td>\n",
       "      <td>0</td>\n",
       "    </tr>\n",
       "    <tr>\n",
       "      <th>1</th>\n",
       "      <td>2</td>\n",
       "      <td>5</td>\n",
       "      <td>2015-07-31</td>\n",
       "      <td>6064</td>\n",
       "      <td>625</td>\n",
       "      <td>1</td>\n",
       "      <td>1</td>\n",
       "      <td>0</td>\n",
       "      <td>1</td>\n",
       "      <td>a</td>\n",
       "      <td>a</td>\n",
       "      <td>570.00</td>\n",
       "      <td>11</td>\n",
       "      <td>2007</td>\n",
       "      <td>1</td>\n",
       "      <td>13</td>\n",
       "      <td>2010</td>\n",
       "      <td>Jan,Apr,Jul,Oct</td>\n",
       "      <td>Jul</td>\n",
       "      <td>1</td>\n",
       "    </tr>\n",
       "    <tr>\n",
       "      <th>2</th>\n",
       "      <td>3</td>\n",
       "      <td>5</td>\n",
       "      <td>2015-07-31</td>\n",
       "      <td>8314</td>\n",
       "      <td>821</td>\n",
       "      <td>1</td>\n",
       "      <td>1</td>\n",
       "      <td>0</td>\n",
       "      <td>1</td>\n",
       "      <td>a</td>\n",
       "      <td>a</td>\n",
       "      <td>14130.00</td>\n",
       "      <td>12</td>\n",
       "      <td>2006</td>\n",
       "      <td>1</td>\n",
       "      <td>14</td>\n",
       "      <td>2011</td>\n",
       "      <td>Jan,Apr,Jul,Oct</td>\n",
       "      <td>Jul</td>\n",
       "      <td>1</td>\n",
       "    </tr>\n",
       "    <tr>\n",
       "      <th>3</th>\n",
       "      <td>4</td>\n",
       "      <td>5</td>\n",
       "      <td>2015-07-31</td>\n",
       "      <td>13995</td>\n",
       "      <td>1498</td>\n",
       "      <td>1</td>\n",
       "      <td>1</td>\n",
       "      <td>0</td>\n",
       "      <td>1</td>\n",
       "      <td>c</td>\n",
       "      <td>c</td>\n",
       "      <td>620.00</td>\n",
       "      <td>9</td>\n",
       "      <td>2009</td>\n",
       "      <td>0</td>\n",
       "      <td>31</td>\n",
       "      <td>2015</td>\n",
       "      <td>0</td>\n",
       "      <td>Jul</td>\n",
       "      <td>0</td>\n",
       "    </tr>\n",
       "    <tr>\n",
       "      <th>4</th>\n",
       "      <td>5</td>\n",
       "      <td>5</td>\n",
       "      <td>2015-07-31</td>\n",
       "      <td>4822</td>\n",
       "      <td>559</td>\n",
       "      <td>1</td>\n",
       "      <td>1</td>\n",
       "      <td>0</td>\n",
       "      <td>1</td>\n",
       "      <td>a</td>\n",
       "      <td>a</td>\n",
       "      <td>29910.00</td>\n",
       "      <td>4</td>\n",
       "      <td>2015</td>\n",
       "      <td>0</td>\n",
       "      <td>31</td>\n",
       "      <td>2015</td>\n",
       "      <td>0</td>\n",
       "      <td>Jul</td>\n",
       "      <td>0</td>\n",
       "    </tr>\n",
       "  </tbody>\n",
       "</table>\n",
       "</div>"
      ],
      "text/plain": [
       "   store  day_of_week       date  sales  customers  open  promo state_holiday  school_holiday store_type assortment  competition_distance  competition_open_since_month  competition_open_since_year  promo2  promo2_since_week  promo2_since_year   promo_interval month_map  is_promo?\n",
       "0      1            5 2015-07-31   5263        555     1      1             0               1          c          a               1270.00                             9                         2008       0                 31               2015                0       Jul          0\n",
       "1      2            5 2015-07-31   6064        625     1      1             0               1          a          a                570.00                            11                         2007       1                 13               2010  Jan,Apr,Jul,Oct       Jul          1\n",
       "2      3            5 2015-07-31   8314        821     1      1             0               1          a          a              14130.00                            12                         2006       1                 14               2011  Jan,Apr,Jul,Oct       Jul          1\n",
       "3      4            5 2015-07-31  13995       1498     1      1             0               1          c          c                620.00                             9                         2009       0                 31               2015                0       Jul          0\n",
       "4      5            5 2015-07-31   4822        559     1      1             0               1          a          a              29910.00                             4                         2015       0                 31               2015                0       Jul          0"
      ]
     },
     "execution_count": 25,
     "metadata": {},
     "output_type": "execute_result"
    }
   ],
   "source": [
    "df1.head()"
   ]
  },
  {
   "cell_type": "code",
   "execution_count": 26,
   "id": "4f07057f",
   "metadata": {
    "ExecuteTime": {
     "end_time": "2022-01-16T18:58:24.801413Z",
     "start_time": "2022-01-16T18:58:24.418454Z"
    },
    "hidden": true
   },
   "outputs": [
    {
     "data": {
      "text/plain": [
       "state_holiday      4\n",
       "store_type         4\n",
       "assortment         3\n",
       "promo_interval     4\n",
       "month_map         12\n",
       "dtype: int64"
      ]
     },
     "execution_count": 26,
     "metadata": {},
     "output_type": "execute_result"
    }
   ],
   "source": [
    "# Checking the number of levels which categorical variable possesses:\n",
    "cat_attributes.apply( lambda x: x.unique().shape[0] )"
   ]
  },
  {
   "cell_type": "code",
   "execution_count": 27,
   "id": "d8b97513",
   "metadata": {
    "ExecuteTime": {
     "end_time": "2022-01-16T18:58:25.632526Z",
     "start_time": "2022-01-16T18:58:24.803955Z"
    },
    "hidden": true
   },
   "outputs": [
    {
     "data": {
      "text/plain": [
       "<AxesSubplot:xlabel='assortment', ylabel='sales'>"
      ]
     },
     "execution_count": 27,
     "metadata": {},
     "output_type": "execute_result"
    },
    {
     "data": {
      "image/png": "[encoded data removed]",
      "text/plain": [
       "<Figure size 1440x720 with 3 Axes>"
      ]
     },
     "metadata": {},
     "output_type": "display_data"
    }
   ],
   "source": [
    "#It's necessary to disregard all sales that are null (= 0). Also, state holidays are not considered.\n",
    "\n",
    "aux1 = df1[ ( df1['state_holiday'] != '0' ) & ( df1['sales'] > 0 ) ]\n",
    "\n",
    "plt.subplot( 1, 3, 1 )\n",
    "sns.boxplot( x = 'state_holiday', y = 'sales', data = aux1 )\n",
    "\n",
    "plt.subplot( 1, 3, 2 )\n",
    "sns.boxplot( x = 'store_type', y = 'sales', data = aux1 )\n",
    "\n",
    "plt.subplot( 1, 3, 3 )\n",
    "sns.boxplot( x = 'assortment', y = 'sales', data = aux1 )\n",
    "\n"
   ]
  },
  {
   "cell_type": "code",
   "execution_count": 28,
   "id": "409f65d7",
   "metadata": {
    "ExecuteTime": {
     "end_time": "2022-01-16T18:58:25.642581Z",
     "start_time": "2022-01-16T18:58:25.639372Z"
    },
    "hidden": true
   },
   "outputs": [],
   "source": [
    "# Linha fechada no meio dos quadrados: 50o quartil, ou mediana.\n",
    "# "
   ]
  },
  {
   "cell_type": "markdown",
   "id": "7698e0b1",
   "metadata": {
    "heading_collapsed": true
   },
   "source": [
    "# 2. (Passo 2) Feature Engineering"
   ]
  },
  {
   "cell_type": "code",
   "execution_count": 29,
   "id": "ba2fb3cf",
   "metadata": {
    "ExecuteTime": {
     "end_time": "2022-01-16T18:58:25.781966Z",
     "start_time": "2022-01-16T18:58:25.645305Z"
    },
    "hidden": true
   },
   "outputs": [],
   "source": [
    "df2 = df1.copy()"
   ]
  },
  {
   "cell_type": "markdown",
   "id": "0131f274",
   "metadata": {
    "hidden": true
   },
   "source": [
    "## 2.0. Mind Map Hypothesis"
   ]
  },
  {
   "cell_type": "code",
   "execution_count": 30,
   "id": "07a1ee3e",
   "metadata": {
    "ExecuteTime": {
     "end_time": "2022-01-16T18:58:25.827003Z",
     "start_time": "2022-01-16T18:58:25.783925Z"
    },
    "hidden": true
   },
   "outputs": [
    {
     "data": {
      "image/png": "[encoded data removed]",
      "text/plain": [
       "<IPython.core.display.Image object>"
      ]
     },
     "execution_count": 30,
     "metadata": {},
     "output_type": "execute_result"
    }
   ],
   "source": [
    "Image( 'Images/MindMapHypothesis.png' )"
   ]
  },
  {
   "cell_type": "markdown",
   "id": "6442279a",
   "metadata": {
    "hidden": true
   },
   "source": [
    "## 2.1. Creating the Hypothesis"
   ]
  },
  {
   "cell_type": "markdown",
   "id": "1f5a6efb",
   "metadata": {
    "hidden": true
   },
   "source": [
    "### 2.1.1. Hypothesis for Stores"
   ]
  },
  {
   "cell_type": "markdown",
   "id": "29752a8b",
   "metadata": {
    "hidden": true
   },
   "source": [
    "**1.** Lojas com maior quadro de funcionários vendem \n",
    "mais. \n",
    "\n",
    "**2.** Lojas com estoque maior deveriam vender mais. \n",
    "\n",
    "**3.** Lojas com maior porte deveriam vende mais.  \n",
    "\n",
    "**4.** Lojas com menor porte deveriam vende menos.  \n",
    "\n",
    "**5.** Lojas com maior sortimento deveriam vender mais.\n",
    "\n",
    "**6.** Lojas com competidores mais próximos deveriam vender menos.\n",
    "\n",
    "**7.** Lojas com competidores a mais tempo deveriam vender mais (Em comparacão as lojas com competidores a menos tempo)."
   ]
  },
  {
   "cell_type": "markdown",
   "id": "c9cde4b2",
   "metadata": {
    "ExecuteTime": {
     "end_time": "2022-01-14T21:09:14.727272Z",
     "start_time": "2022-01-14T21:09:14.724198Z"
    },
    "hidden": true
   },
   "source": [
    "### 2.1.2. Hypothesis for Products"
   ]
  },
  {
   "cell_type": "markdown",
   "id": "3a72f1ac",
   "metadata": {
    "hidden": true
   },
   "source": [
    "**1.** Lojas que investem mais em marketing deveriam vender mais. \n",
    "\n",
    "**2.** Lojas que expõe mais os produtos nas vitrines deveriam vender mais. \n",
    "\n",
    "**3.** Lojas que tem precos menores pros produtos deveriam vender mais.\n",
    "\n",
    "**4.** Lojas que mantém precos menores pros produtos por mais tempo deveriam vender mais.\n",
    "\n",
    "**5.** Lojas que promocoes mais agressivas (Descontos maiores) deveriam vender mais.\n",
    "\n",
    "**6.** Lojas com promocoes ativas por mais tempo deveriam vender mais.\n",
    "\n",
    "**7.** Lojas com mais dias de promocao deveriam vender mais.\n",
    "\n",
    "**8.** Lojas com mais promocoes consecutivas (Em dias consecutivos) deveriam vender mais."
   ]
  },
  {
   "cell_type": "markdown",
   "id": "4582871b",
   "metadata": {
    "ExecuteTime": {
     "end_time": "2022-01-14T21:09:14.727272Z",
     "start_time": "2022-01-14T21:09:14.724198Z"
    },
    "hidden": true
   },
   "source": [
    "### 2.1.1. Hypothesis for Time (Seasonality)"
   ]
  },
  {
   "cell_type": "markdown",
   "id": "430629ec",
   "metadata": {
    "hidden": true
   },
   "source": [
    "**1.** Lojas abertas durante os feriados de Natal deveriam vender mais.\n",
    "\n",
    "**2.** Lojas deveriam vender mais ao longo dos anos (Quanto mais passa o tempo com uma loja aberta, mais ela vende em comparacao ao ano anterior).\n",
    "\n",
    "**3.** Lojas deveriam vender mais no segundo semestre do ano.\n",
    "\n",
    "**4.** Lojas deveriam vender mais depois do dia 10 de cada mês.\n",
    "\n",
    "**5.** Lojas deveriam vender menos aos finais de semana.\n",
    "\n",
    "**6.** Lojas deveriam vender menos durante os feriados  escolares."
   ]
  },
  {
   "cell_type": "markdown",
   "id": "4656bf80",
   "metadata": {
    "hidden": true
   },
   "source": [
    "## 2.2. Final List of Hypothesis (Priorization)"
   ]
  },
  {
   "cell_type": "code",
   "execution_count": 31,
   "id": "b332b254",
   "metadata": {
    "ExecuteTime": {
     "end_time": "2022-01-16T18:58:25.836696Z",
     "start_time": "2022-01-16T18:58:25.829770Z"
    },
    "hidden": true
   },
   "outputs": [
    {
     "data": {
      "text/plain": [
       "Index(['store', 'day_of_week', 'date', 'sales', 'customers', 'open', 'promo',\n",
       "       'state_holiday', 'school_holiday', 'store_type', 'assortment',\n",
       "       'competition_distance', 'competition_open_since_month',\n",
       "       'competition_open_since_year', 'promo2', 'promo2_since_week',\n",
       "       'promo2_since_year', 'promo_interval', 'month_map', 'is_promo?'],\n",
       "      dtype='object')"
      ]
     },
     "execution_count": 31,
     "metadata": {},
     "output_type": "execute_result"
    }
   ],
   "source": [
    "df1.columns"
   ]
  },
  {
   "cell_type": "code",
   "execution_count": 32,
   "id": "7f9dc123",
   "metadata": {
    "ExecuteTime": {
     "end_time": "2022-01-16T18:58:25.917682Z",
     "start_time": "2022-01-16T18:58:25.839859Z"
    },
    "hidden": true
   },
   "outputs": [
    {
     "data": {
      "text/html": [
       "<div>\n",
       "<style scoped>\n",
       "    .dataframe tbody tr th:only-of-type {\n",
       "        vertical-align: middle;\n",
       "    }\n",
       "\n",
       "    .dataframe tbody tr th {\n",
       "        vertical-align: top;\n",
       "    }\n",
       "\n",
       "    .dataframe thead th {\n",
       "        text-align: right;\n",
       "    }\n",
       "</style>\n",
       "<table border=\"1\" class=\"dataframe\">\n",
       "  <thead>\n",
       "    <tr style=\"text-align: right;\">\n",
       "      <th></th>\n",
       "      <th>store</th>\n",
       "      <th>day_of_week</th>\n",
       "      <th>date</th>\n",
       "      <th>sales</th>\n",
       "      <th>customers</th>\n",
       "      <th>open</th>\n",
       "      <th>promo</th>\n",
       "      <th>state_holiday</th>\n",
       "      <th>school_holiday</th>\n",
       "      <th>store_type</th>\n",
       "      <th>assortment</th>\n",
       "      <th>competition_distance</th>\n",
       "      <th>competition_open_since_month</th>\n",
       "      <th>competition_open_since_year</th>\n",
       "      <th>promo2</th>\n",
       "      <th>promo2_since_week</th>\n",
       "      <th>promo2_since_year</th>\n",
       "      <th>promo_interval</th>\n",
       "      <th>month_map</th>\n",
       "      <th>is_promo?</th>\n",
       "    </tr>\n",
       "  </thead>\n",
       "  <tbody>\n",
       "    <tr>\n",
       "      <th>362492</th>\n",
       "      <td>983</td>\n",
       "      <td>2</td>\n",
       "      <td>2014-08-19</td>\n",
       "      <td>10554</td>\n",
       "      <td>1312</td>\n",
       "      <td>1</td>\n",
       "      <td>1</td>\n",
       "      <td>0</td>\n",
       "      <td>1</td>\n",
       "      <td>a</td>\n",
       "      <td>a</td>\n",
       "      <td>40.00</td>\n",
       "      <td>3</td>\n",
       "      <td>2014</td>\n",
       "      <td>1</td>\n",
       "      <td>1</td>\n",
       "      <td>2014</td>\n",
       "      <td>Jan,Apr,Jul,Oct</td>\n",
       "      <td>Aug</td>\n",
       "      <td>0</td>\n",
       "    </tr>\n",
       "  </tbody>\n",
       "</table>\n",
       "</div>"
      ],
      "text/plain": [
       "        store  day_of_week       date  sales  customers  open  promo state_holiday  school_holiday store_type assortment  competition_distance  competition_open_since_month  competition_open_since_year  promo2  promo2_since_week  promo2_since_year   promo_interval month_map  is_promo?\n",
       "362492    983            2 2014-08-19  10554       1312     1      1             0               1          a          a                 40.00                             3                         2014       1                  1               2014  Jan,Apr,Jul,Oct       Aug          0"
      ]
     },
     "execution_count": 32,
     "metadata": {},
     "output_type": "execute_result"
    }
   ],
   "source": [
    "df1.sample()"
   ]
  },
  {
   "cell_type": "markdown",
   "id": "5fbda5e4",
   "metadata": {
    "hidden": true
   },
   "source": [
    "**Store Hypothesis**\n",
    "\n",
    "**1.** - Lojas com maior sortimento deveriam vender mais.\n",
    "\n",
    "**2.** - Lojas com competidores mais próximos deveriam vender menos.\n",
    "\n",
    "**3.** - Lojas com competidores a mais tempo deveriam vender mais (Em comparacão as lojas com competidores a menos tempo).\n",
    "\n",
    "**Products Hypothesis**\n",
    "\n",
    "**4.** - Lojas com promocoes ativas por mais tempo deveriam vender mais.\n",
    "\n",
    "**5.** - Lojas com mais dias de promocao deveriam vender mais.\n",
    "\n",
    "**6.** - Lojas com mais promocoes consecutivas (Em dias consecutivos) deveriam vender mais.\n",
    "\n",
    "**Time Hypothesis**\n",
    "\n",
    "**7.** - Lojas abertas durante os feriados de Natal deveriam vender mais.\n",
    "\n",
    "**8.** - Lojas deveriam vender mais ao longo dos anos (Quanto mais passa o tempo com uma loja aberta, mais ela vende em comparacao ao ano anterior).\n",
    "\n",
    "**9.** - Lojas deveriam vender mais no segundo semestre do ano.\n",
    "\n",
    "**10.** - Lojas deveriam vender mais depois do dia 10 de cada mês.\n",
    "\n",
    "**11.** - Lojas deveriam vender menos aos finais de semana.\n",
    "\n",
    "**12.** - Lojas deveriam vender menos durante os feriados escolares."
   ]
  },
  {
   "cell_type": "markdown",
   "id": "8d3aeec4",
   "metadata": {
    "hidden": true
   },
   "source": [
    "## 2.3. Feature Engineering - Deriving the variables"
   ]
  },
  {
   "cell_type": "code",
   "execution_count": 38,
   "id": "b21ab2bf",
   "metadata": {
    "ExecuteTime": {
     "end_time": "2022-01-16T19:13:48.422844Z",
     "start_time": "2022-01-16T19:12:24.076381Z"
    },
    "hidden": true
   },
   "outputs": [
    {
     "name": "stderr",
     "output_type": "stream",
     "text": [
      "/tmp/ipykernel_3131/28121033.py:12: FutureWarning: Series.dt.weekofyear and Series.dt.week have been deprecated.  Please use Series.dt.isocalendar().week instead.\n",
      "  df2['week_of_year'] = df2['date'].dt.weekofyear\n"
     ]
    }
   ],
   "source": [
    "# year\n",
    "df2['year'] = df2['date'].dt.year \n",
    "\n",
    "# month\n",
    "df2['month'] = df2['date'].dt.month \n",
    "\n",
    "# day\n",
    "df2['day'] = df2['date'].dt.day \n",
    "\n",
    "\n",
    "# week of year\n",
    "df2['week_of_year'] = df2['date'].dt.weekofyear\n",
    "\n",
    "\n",
    "# year week\n",
    "df2['year_week'] = df2['date'].dt.strftime('%Y-%W') \n",
    "\n",
    "\n",
    "# competition (open) since\n",
    "df2['competition_since'] = df2.apply( lambda x: datetime.datetime( year = x['competition_open_since_year'], \n",
    "                                                                   month = x['competition_open_since_month'], \n",
    "                                                                   day = 1 ), axis = 1 )\n",
    "\n",
    "df2['competition_time_month'] = ( ( df2['date'] - df2['competition_since'] )/30 ).apply( lambda x: x.days ).astype( int )\n",
    "\n",
    "\n",
    "# promo since\n",
    "df2['promo_since'] = df2['promo2_since_year'].astype(str) + '-' + df2['promo2_since_week'].astype(str)\n",
    "\n",
    "df2['promo_since'] = df2['promo_since'].apply( lambda x: datetime.datetime.strptime( x + '-1', '%Y-%W-%w'  ) - \n",
    "                                                         datetime.timedelta( days = 9 ) )\n",
    "\n",
    "df2['promo_since'] = ( ( df2['date'] - df2['promo_since'] )/7 ).apply( lambda x: x.days ).astype(int) \n",
    "\n",
    "\n",
    "# assortment\n",
    "df2['assortment'] = df2['assortment'].apply( lambda x: 'basic' if x == 'a' else 'extra' if x == 'b' else 'extended' ) \n",
    "    \n",
    "\n",
    "# state holiday\n",
    "df2['state_holiday'] = df2['state_holiday'].apply( lambda x: 'public holiday' if x == 'a' else 'Easter holiday' if x == 'b' \n",
    "                                                            else 'Christimas' if x == 'c' else 'regular_day' )\n",
    "\n",
    "\n"
   ]
  },
  {
   "cell_type": "code",
   "execution_count": 39,
   "id": "9fc173d4",
   "metadata": {
    "ExecuteTime": {
     "end_time": "2022-01-16T19:14:22.726277Z",
     "start_time": "2022-01-16T19:14:22.706593Z"
    },
    "hidden": true
   },
   "outputs": [
    {
     "data": {
      "text/html": [
       "<div>\n",
       "<style scoped>\n",
       "    .dataframe tbody tr th:only-of-type {\n",
       "        vertical-align: middle;\n",
       "    }\n",
       "\n",
       "    .dataframe tbody tr th {\n",
       "        vertical-align: top;\n",
       "    }\n",
       "\n",
       "    .dataframe thead th {\n",
       "        text-align: right;\n",
       "    }\n",
       "</style>\n",
       "<table border=\"1\" class=\"dataframe\">\n",
       "  <thead>\n",
       "    <tr style=\"text-align: right;\">\n",
       "      <th></th>\n",
       "      <th>0</th>\n",
       "      <th>1</th>\n",
       "      <th>2</th>\n",
       "      <th>3</th>\n",
       "      <th>4</th>\n",
       "    </tr>\n",
       "  </thead>\n",
       "  <tbody>\n",
       "    <tr>\n",
       "      <th>store</th>\n",
       "      <td>1</td>\n",
       "      <td>2</td>\n",
       "      <td>3</td>\n",
       "      <td>4</td>\n",
       "      <td>5</td>\n",
       "    </tr>\n",
       "    <tr>\n",
       "      <th>day_of_week</th>\n",
       "      <td>5</td>\n",
       "      <td>5</td>\n",
       "      <td>5</td>\n",
       "      <td>5</td>\n",
       "      <td>5</td>\n",
       "    </tr>\n",
       "    <tr>\n",
       "      <th>date</th>\n",
       "      <td>2015-07-31 00:00:00</td>\n",
       "      <td>2015-07-31 00:00:00</td>\n",
       "      <td>2015-07-31 00:00:00</td>\n",
       "      <td>2015-07-31 00:00:00</td>\n",
       "      <td>2015-07-31 00:00:00</td>\n",
       "    </tr>\n",
       "    <tr>\n",
       "      <th>sales</th>\n",
       "      <td>5263</td>\n",
       "      <td>6064</td>\n",
       "      <td>8314</td>\n",
       "      <td>13995</td>\n",
       "      <td>4822</td>\n",
       "    </tr>\n",
       "    <tr>\n",
       "      <th>customers</th>\n",
       "      <td>555</td>\n",
       "      <td>625</td>\n",
       "      <td>821</td>\n",
       "      <td>1498</td>\n",
       "      <td>559</td>\n",
       "    </tr>\n",
       "    <tr>\n",
       "      <th>open</th>\n",
       "      <td>1</td>\n",
       "      <td>1</td>\n",
       "      <td>1</td>\n",
       "      <td>1</td>\n",
       "      <td>1</td>\n",
       "    </tr>\n",
       "    <tr>\n",
       "      <th>promo</th>\n",
       "      <td>1</td>\n",
       "      <td>1</td>\n",
       "      <td>1</td>\n",
       "      <td>1</td>\n",
       "      <td>1</td>\n",
       "    </tr>\n",
       "    <tr>\n",
       "      <th>state_holiday</th>\n",
       "      <td>regular_day</td>\n",
       "      <td>regular_day</td>\n",
       "      <td>regular_day</td>\n",
       "      <td>regular_day</td>\n",
       "      <td>regular_day</td>\n",
       "    </tr>\n",
       "    <tr>\n",
       "      <th>school_holiday</th>\n",
       "      <td>1</td>\n",
       "      <td>1</td>\n",
       "      <td>1</td>\n",
       "      <td>1</td>\n",
       "      <td>1</td>\n",
       "    </tr>\n",
       "    <tr>\n",
       "      <th>store_type</th>\n",
       "      <td>c</td>\n",
       "      <td>a</td>\n",
       "      <td>a</td>\n",
       "      <td>c</td>\n",
       "      <td>a</td>\n",
       "    </tr>\n",
       "    <tr>\n",
       "      <th>assortment</th>\n",
       "      <td>extended</td>\n",
       "      <td>extended</td>\n",
       "      <td>extended</td>\n",
       "      <td>extended</td>\n",
       "      <td>extended</td>\n",
       "    </tr>\n",
       "    <tr>\n",
       "      <th>competition_distance</th>\n",
       "      <td>1270.00</td>\n",
       "      <td>570.00</td>\n",
       "      <td>14130.00</td>\n",
       "      <td>620.00</td>\n",
       "      <td>29910.00</td>\n",
       "    </tr>\n",
       "    <tr>\n",
       "      <th>competition_open_since_month</th>\n",
       "      <td>9</td>\n",
       "      <td>11</td>\n",
       "      <td>12</td>\n",
       "      <td>9</td>\n",
       "      <td>4</td>\n",
       "    </tr>\n",
       "    <tr>\n",
       "      <th>competition_open_since_year</th>\n",
       "      <td>2008</td>\n",
       "      <td>2007</td>\n",
       "      <td>2006</td>\n",
       "      <td>2009</td>\n",
       "      <td>2015</td>\n",
       "    </tr>\n",
       "    <tr>\n",
       "      <th>promo2</th>\n",
       "      <td>0</td>\n",
       "      <td>1</td>\n",
       "      <td>1</td>\n",
       "      <td>0</td>\n",
       "      <td>0</td>\n",
       "    </tr>\n",
       "    <tr>\n",
       "      <th>promo2_since_week</th>\n",
       "      <td>31</td>\n",
       "      <td>13</td>\n",
       "      <td>14</td>\n",
       "      <td>31</td>\n",
       "      <td>31</td>\n",
       "    </tr>\n",
       "    <tr>\n",
       "      <th>promo2_since_year</th>\n",
       "      <td>2015</td>\n",
       "      <td>2010</td>\n",
       "      <td>2011</td>\n",
       "      <td>2015</td>\n",
       "      <td>2015</td>\n",
       "    </tr>\n",
       "    <tr>\n",
       "      <th>promo_interval</th>\n",
       "      <td>0</td>\n",
       "      <td>Jan,Apr,Jul,Oct</td>\n",
       "      <td>Jan,Apr,Jul,Oct</td>\n",
       "      <td>0</td>\n",
       "      <td>0</td>\n",
       "    </tr>\n",
       "    <tr>\n",
       "      <th>month_map</th>\n",
       "      <td>Jul</td>\n",
       "      <td>Jul</td>\n",
       "      <td>Jul</td>\n",
       "      <td>Jul</td>\n",
       "      <td>Jul</td>\n",
       "    </tr>\n",
       "    <tr>\n",
       "      <th>is_promo?</th>\n",
       "      <td>0</td>\n",
       "      <td>1</td>\n",
       "      <td>1</td>\n",
       "      <td>0</td>\n",
       "      <td>0</td>\n",
       "    </tr>\n",
       "    <tr>\n",
       "      <th>year</th>\n",
       "      <td>2015</td>\n",
       "      <td>2015</td>\n",
       "      <td>2015</td>\n",
       "      <td>2015</td>\n",
       "      <td>2015</td>\n",
       "    </tr>\n",
       "    <tr>\n",
       "      <th>month</th>\n",
       "      <td>7</td>\n",
       "      <td>7</td>\n",
       "      <td>7</td>\n",
       "      <td>7</td>\n",
       "      <td>7</td>\n",
       "    </tr>\n",
       "    <tr>\n",
       "      <th>day</th>\n",
       "      <td>31</td>\n",
       "      <td>31</td>\n",
       "      <td>31</td>\n",
       "      <td>31</td>\n",
       "      <td>31</td>\n",
       "    </tr>\n",
       "    <tr>\n",
       "      <th>week_of_year</th>\n",
       "      <td>31</td>\n",
       "      <td>31</td>\n",
       "      <td>31</td>\n",
       "      <td>31</td>\n",
       "      <td>31</td>\n",
       "    </tr>\n",
       "    <tr>\n",
       "      <th>year_week</th>\n",
       "      <td>2015-30</td>\n",
       "      <td>2015-30</td>\n",
       "      <td>2015-30</td>\n",
       "      <td>2015-30</td>\n",
       "      <td>2015-30</td>\n",
       "    </tr>\n",
       "    <tr>\n",
       "      <th>competition_since</th>\n",
       "      <td>2008-09-01 00:00:00</td>\n",
       "      <td>2007-11-01 00:00:00</td>\n",
       "      <td>2006-12-01 00:00:00</td>\n",
       "      <td>2009-09-01 00:00:00</td>\n",
       "      <td>2015-04-01 00:00:00</td>\n",
       "    </tr>\n",
       "    <tr>\n",
       "      <th>competition_time_month</th>\n",
       "      <td>84</td>\n",
       "      <td>94</td>\n",
       "      <td>105</td>\n",
       "      <td>71</td>\n",
       "      <td>4</td>\n",
       "    </tr>\n",
       "    <tr>\n",
       "      <th>promo_since</th>\n",
       "      <td>0</td>\n",
       "      <td>279</td>\n",
       "      <td>226</td>\n",
       "      <td>0</td>\n",
       "      <td>0</td>\n",
       "    </tr>\n",
       "  </tbody>\n",
       "</table>\n",
       "</div>"
      ],
      "text/plain": [
       "                                                0                    1                    2                    3                    4\n",
       "store                                           1                    2                    3                    4                    5\n",
       "day_of_week                                     5                    5                    5                    5                    5\n",
       "date                          2015-07-31 00:00:00  2015-07-31 00:00:00  2015-07-31 00:00:00  2015-07-31 00:00:00  2015-07-31 00:00:00\n",
       "sales                                        5263                 6064                 8314                13995                 4822\n",
       "customers                                     555                  625                  821                 1498                  559\n",
       "open                                            1                    1                    1                    1                    1\n",
       "promo                                           1                    1                    1                    1                    1\n",
       "state_holiday                         regular_day          regular_day          regular_day          regular_day          regular_day\n",
       "school_holiday                                  1                    1                    1                    1                    1\n",
       "store_type                                      c                    a                    a                    c                    a\n",
       "assortment                               extended             extended             extended             extended             extended\n",
       "competition_distance                      1270.00               570.00             14130.00               620.00             29910.00\n",
       "competition_open_since_month                    9                   11                   12                    9                    4\n",
       "competition_open_since_year                  2008                 2007                 2006                 2009                 2015\n",
       "promo2                                          0                    1                    1                    0                    0\n",
       "promo2_since_week                              31                   13                   14                   31                   31\n",
       "promo2_since_year                            2015                 2010                 2011                 2015                 2015\n",
       "promo_interval                                  0      Jan,Apr,Jul,Oct      Jan,Apr,Jul,Oct                    0                    0\n",
       "month_map                                     Jul                  Jul                  Jul                  Jul                  Jul\n",
       "is_promo?                                       0                    1                    1                    0                    0\n",
       "year                                         2015                 2015                 2015                 2015                 2015\n",
       "month                                           7                    7                    7                    7                    7\n",
       "day                                            31                   31                   31                   31                   31\n",
       "week_of_year                                   31                   31                   31                   31                   31\n",
       "year_week                                 2015-30              2015-30              2015-30              2015-30              2015-30\n",
       "competition_since             2008-09-01 00:00:00  2007-11-01 00:00:00  2006-12-01 00:00:00  2009-09-01 00:00:00  2015-04-01 00:00:00\n",
       "competition_time_month                         84                   94                  105                   71                    4\n",
       "promo_since                                     0                  279                  226                    0                    0"
      ]
     },
     "execution_count": 39,
     "metadata": {},
     "output_type": "execute_result"
    }
   ],
   "source": [
    "df2.head().T"
   ]
  },
  {
   "cell_type": "markdown",
   "id": "7dc96a79",
   "metadata": {},
   "source": [
    "# 3. (Passo 3) Filtragem de Variáveis"
   ]
  },
  {
   "cell_type": "code",
   "execution_count": 40,
   "id": "df4a31a4",
   "metadata": {
    "ExecuteTime": {
     "end_time": "2022-01-16T19:19:03.181861Z",
     "start_time": "2022-01-16T19:19:02.745641Z"
    }
   },
   "outputs": [],
   "source": [
    "df3 = df2.copy()"
   ]
  },
  {
   "cell_type": "markdown",
   "id": "ef0a30d3",
   "metadata": {},
   "source": [
    "## 3.0. Check-point da Análise"
   ]
  },
  {
   "cell_type": "code",
   "execution_count": 41,
   "id": "7c54e7f3",
   "metadata": {
    "ExecuteTime": {
     "end_time": "2022-01-16T19:22:12.550292Z",
     "start_time": "2022-01-16T19:22:12.522262Z"
    }
   },
   "outputs": [
    {
     "data": {
      "text/html": [
       "<div>\n",
       "<style scoped>\n",
       "    .dataframe tbody tr th:only-of-type {\n",
       "        vertical-align: middle;\n",
       "    }\n",
       "\n",
       "    .dataframe tbody tr th {\n",
       "        vertical-align: top;\n",
       "    }\n",
       "\n",
       "    .dataframe thead th {\n",
       "        text-align: right;\n",
       "    }\n",
       "</style>\n",
       "<table border=\"1\" class=\"dataframe\">\n",
       "  <thead>\n",
       "    <tr style=\"text-align: right;\">\n",
       "      <th></th>\n",
       "      <th>store</th>\n",
       "      <th>day_of_week</th>\n",
       "      <th>date</th>\n",
       "      <th>sales</th>\n",
       "      <th>customers</th>\n",
       "      <th>open</th>\n",
       "      <th>promo</th>\n",
       "      <th>state_holiday</th>\n",
       "      <th>school_holiday</th>\n",
       "      <th>store_type</th>\n",
       "      <th>assortment</th>\n",
       "      <th>competition_distance</th>\n",
       "      <th>competition_open_since_month</th>\n",
       "      <th>competition_open_since_year</th>\n",
       "      <th>promo2</th>\n",
       "      <th>promo2_since_week</th>\n",
       "      <th>promo2_since_year</th>\n",
       "      <th>promo_interval</th>\n",
       "      <th>month_map</th>\n",
       "      <th>is_promo?</th>\n",
       "      <th>year</th>\n",
       "      <th>month</th>\n",
       "      <th>day</th>\n",
       "      <th>week_of_year</th>\n",
       "      <th>year_week</th>\n",
       "      <th>competition_since</th>\n",
       "      <th>competition_time_month</th>\n",
       "      <th>promo_since</th>\n",
       "    </tr>\n",
       "  </thead>\n",
       "  <tbody>\n",
       "    <tr>\n",
       "      <th>0</th>\n",
       "      <td>1</td>\n",
       "      <td>5</td>\n",
       "      <td>2015-07-31</td>\n",
       "      <td>5263</td>\n",
       "      <td>555</td>\n",
       "      <td>1</td>\n",
       "      <td>1</td>\n",
       "      <td>regular_day</td>\n",
       "      <td>1</td>\n",
       "      <td>c</td>\n",
       "      <td>extended</td>\n",
       "      <td>1270.00</td>\n",
       "      <td>9</td>\n",
       "      <td>2008</td>\n",
       "      <td>0</td>\n",
       "      <td>31</td>\n",
       "      <td>2015</td>\n",
       "      <td>0</td>\n",
       "      <td>Jul</td>\n",
       "      <td>0</td>\n",
       "      <td>2015</td>\n",
       "      <td>7</td>\n",
       "      <td>31</td>\n",
       "      <td>31</td>\n",
       "      <td>2015-30</td>\n",
       "      <td>2008-09-01</td>\n",
       "      <td>84</td>\n",
       "      <td>0</td>\n",
       "    </tr>\n",
       "    <tr>\n",
       "      <th>1</th>\n",
       "      <td>2</td>\n",
       "      <td>5</td>\n",
       "      <td>2015-07-31</td>\n",
       "      <td>6064</td>\n",
       "      <td>625</td>\n",
       "      <td>1</td>\n",
       "      <td>1</td>\n",
       "      <td>regular_day</td>\n",
       "      <td>1</td>\n",
       "      <td>a</td>\n",
       "      <td>extended</td>\n",
       "      <td>570.00</td>\n",
       "      <td>11</td>\n",
       "      <td>2007</td>\n",
       "      <td>1</td>\n",
       "      <td>13</td>\n",
       "      <td>2010</td>\n",
       "      <td>Jan,Apr,Jul,Oct</td>\n",
       "      <td>Jul</td>\n",
       "      <td>1</td>\n",
       "      <td>2015</td>\n",
       "      <td>7</td>\n",
       "      <td>31</td>\n",
       "      <td>31</td>\n",
       "      <td>2015-30</td>\n",
       "      <td>2007-11-01</td>\n",
       "      <td>94</td>\n",
       "      <td>279</td>\n",
       "    </tr>\n",
       "    <tr>\n",
       "      <th>2</th>\n",
       "      <td>3</td>\n",
       "      <td>5</td>\n",
       "      <td>2015-07-31</td>\n",
       "      <td>8314</td>\n",
       "      <td>821</td>\n",
       "      <td>1</td>\n",
       "      <td>1</td>\n",
       "      <td>regular_day</td>\n",
       "      <td>1</td>\n",
       "      <td>a</td>\n",
       "      <td>extended</td>\n",
       "      <td>14130.00</td>\n",
       "      <td>12</td>\n",
       "      <td>2006</td>\n",
       "      <td>1</td>\n",
       "      <td>14</td>\n",
       "      <td>2011</td>\n",
       "      <td>Jan,Apr,Jul,Oct</td>\n",
       "      <td>Jul</td>\n",
       "      <td>1</td>\n",
       "      <td>2015</td>\n",
       "      <td>7</td>\n",
       "      <td>31</td>\n",
       "      <td>31</td>\n",
       "      <td>2015-30</td>\n",
       "      <td>2006-12-01</td>\n",
       "      <td>105</td>\n",
       "      <td>226</td>\n",
       "    </tr>\n",
       "    <tr>\n",
       "      <th>3</th>\n",
       "      <td>4</td>\n",
       "      <td>5</td>\n",
       "      <td>2015-07-31</td>\n",
       "      <td>13995</td>\n",
       "      <td>1498</td>\n",
       "      <td>1</td>\n",
       "      <td>1</td>\n",
       "      <td>regular_day</td>\n",
       "      <td>1</td>\n",
       "      <td>c</td>\n",
       "      <td>extended</td>\n",
       "      <td>620.00</td>\n",
       "      <td>9</td>\n",
       "      <td>2009</td>\n",
       "      <td>0</td>\n",
       "      <td>31</td>\n",
       "      <td>2015</td>\n",
       "      <td>0</td>\n",
       "      <td>Jul</td>\n",
       "      <td>0</td>\n",
       "      <td>2015</td>\n",
       "      <td>7</td>\n",
       "      <td>31</td>\n",
       "      <td>31</td>\n",
       "      <td>2015-30</td>\n",
       "      <td>2009-09-01</td>\n",
       "      <td>71</td>\n",
       "      <td>0</td>\n",
       "    </tr>\n",
       "    <tr>\n",
       "      <th>4</th>\n",
       "      <td>5</td>\n",
       "      <td>5</td>\n",
       "      <td>2015-07-31</td>\n",
       "      <td>4822</td>\n",
       "      <td>559</td>\n",
       "      <td>1</td>\n",
       "      <td>1</td>\n",
       "      <td>regular_day</td>\n",
       "      <td>1</td>\n",
       "      <td>a</td>\n",
       "      <td>extended</td>\n",
       "      <td>29910.00</td>\n",
       "      <td>4</td>\n",
       "      <td>2015</td>\n",
       "      <td>0</td>\n",
       "      <td>31</td>\n",
       "      <td>2015</td>\n",
       "      <td>0</td>\n",
       "      <td>Jul</td>\n",
       "      <td>0</td>\n",
       "      <td>2015</td>\n",
       "      <td>7</td>\n",
       "      <td>31</td>\n",
       "      <td>31</td>\n",
       "      <td>2015-30</td>\n",
       "      <td>2015-04-01</td>\n",
       "      <td>4</td>\n",
       "      <td>0</td>\n",
       "    </tr>\n",
       "  </tbody>\n",
       "</table>\n",
       "</div>"
      ],
      "text/plain": [
       "   store  day_of_week       date  sales  customers  open  promo state_holiday  school_holiday store_type assortment  competition_distance  competition_open_since_month  competition_open_since_year  promo2  promo2_since_week  promo2_since_year   promo_interval month_map  is_promo?  year  month  day  week_of_year year_week competition_since  competition_time_month  promo_since\n",
       "0      1            5 2015-07-31   5263        555     1      1   regular_day               1          c   extended               1270.00                             9                         2008       0                 31               2015                0       Jul          0  2015      7   31            31   2015-30        2008-09-01                      84            0\n",
       "1      2            5 2015-07-31   6064        625     1      1   regular_day               1          a   extended                570.00                            11                         2007       1                 13               2010  Jan,Apr,Jul,Oct       Jul          1  2015      7   31            31   2015-30        2007-11-01                      94          279\n",
       "2      3            5 2015-07-31   8314        821     1      1   regular_day               1          a   extended              14130.00                            12                         2006       1                 14               2011  Jan,Apr,Jul,Oct       Jul          1  2015      7   31            31   2015-30        2006-12-01                     105          226\n",
       "3      4            5 2015-07-31  13995       1498     1      1   regular_day               1          c   extended                620.00                             9                         2009       0                 31               2015                0       Jul          0  2015      7   31            31   2015-30        2009-09-01                      71            0\n",
       "4      5            5 2015-07-31   4822        559     1      1   regular_day               1          a   extended              29910.00                             4                         2015       0                 31               2015                0       Jul          0  2015      7   31            31   2015-30        2015-04-01                       4            0"
      ]
     },
     "execution_count": 41,
     "metadata": {},
     "output_type": "execute_result"
    }
   ],
   "source": [
    "df3.head()"
   ]
  },
  {
   "cell_type": "markdown",
   "id": "d8ba859e",
   "metadata": {},
   "source": [
    "## 3.1. Filtragem das Linhas"
   ]
  },
  {
   "cell_type": "code",
   "execution_count": 42,
   "id": "40bb8d6c",
   "metadata": {
    "ExecuteTime": {
     "end_time": "2022-01-16T19:29:11.442554Z",
     "start_time": "2022-01-16T19:29:11.240650Z"
    }
   },
   "outputs": [],
   "source": [
    "df3 = df3[ ( df3['open'] != 0 ) & ( df3['sales'] > 0 ) ]"
   ]
  },
  {
   "cell_type": "markdown",
   "id": "24e22d92",
   "metadata": {},
   "source": [
    "## 3.2. Selecão das Colunas"
   ]
  },
  {
   "cell_type": "code",
   "execution_count": 43,
   "id": "7e702834",
   "metadata": {
    "ExecuteTime": {
     "end_time": "2022-01-16T19:32:06.676731Z",
     "start_time": "2022-01-16T19:32:06.513526Z"
    }
   },
   "outputs": [],
   "source": [
    "cols_drop = ['customers', 'open', 'promo_interval', 'month_map']\n",
    "\n",
    "df3 = df3.drop( cols_drop, axis = 1 )"
   ]
  },
  {
   "cell_type": "code",
   "execution_count": 44,
   "id": "407af665",
   "metadata": {
    "ExecuteTime": {
     "end_time": "2022-01-16T19:32:20.497199Z",
     "start_time": "2022-01-16T19:32:20.491644Z"
    }
   },
   "outputs": [
    {
     "data": {
      "text/plain": [
       "Index(['store', 'day_of_week', 'date', 'sales', 'promo', 'state_holiday',\n",
       "       'school_holiday', 'store_type', 'assortment', 'competition_distance',\n",
       "       'competition_open_since_month', 'competition_open_since_year', 'promo2',\n",
       "       'promo2_since_week', 'promo2_since_year', 'is_promo?', 'year', 'month',\n",
       "       'day', 'week_of_year', 'year_week', 'competition_since',\n",
       "       'competition_time_month', 'promo_since'],\n",
       "      dtype='object')"
      ]
     },
     "execution_count": 44,
     "metadata": {},
     "output_type": "execute_result"
    }
   ],
   "source": [
    "df3.columns"
   ]
  },
  {
   "cell_type": "code",
   "execution_count": 45,
   "id": "8ab55404",
   "metadata": {
    "ExecuteTime": {
     "end_time": "2022-01-16T19:35:20.003938Z",
     "start_time": "2022-01-16T19:35:19.999994Z"
    }
   },
   "outputs": [],
   "source": [
    "# Ao final da filtragem das linhas e selecao das colunas, resta apenas o datafram df3, o que representa o conjunto de\n",
    "# dados importantes a serem utilizados para a análise. Todo o resto diferente é irrelevante e foi desconsiderado a\n",
    "# partir da funcao 'drop'. "
   ]
  }
 ],
 "metadata": {
  "kernelspec": {
   "display_name": "Python 3 (ipykernel)",
   "language": "python",
   "name": "python3"
  },
  "language_info": {
   "codemirror_mode": {
    "name": "ipython",
    "version": 3
   },
   "file_extension": ".py",
   "mimetype": "text/x-python",
   "name": "python",
   "nbconvert_exporter": "python",
   "pygments_lexer": "ipython3",
   "version": "3.9.2"
  }
 },
 "nbformat": 4,
 "nbformat_minor": 5
}
